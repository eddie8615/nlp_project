{
 "cells": [
  {
   "cell_type": "markdown",
   "id": "173dabd1",
   "metadata": {
    "id": "173dabd1"
   },
   "source": [
    "## NLP project\n",
    "\n",
    "Changhyun Kim (k21134342)"
   ]
  },
  {
   "cell_type": "code",
   "execution_count": 1,
   "id": "oXhnBi_na7XD",
   "metadata": {
    "colab": {
     "base_uri": "https://localhost:8080/"
    },
    "id": "oXhnBi_na7XD",
    "outputId": "0f1edd36-ff9b-4498-9e56-80ce73be576c"
   },
   "outputs": [
    {
     "name": "stdout",
     "output_type": "stream",
     "text": [
      "Mounted at /content/drive/\n",
      "/content/drive/My Drive/Colab Notebooks\n"
     ]
    }
   ],
   "source": [
    "# For colab user\n",
    "# from google.colab import drive\n",
    "# drive.mount('/content/drive/')\n",
    "# %cd /content/drive/My Drive/Colab Notebooks/"
   ]
  },
  {
   "cell_type": "code",
   "execution_count": 2,
   "id": "d24ffb5e",
   "metadata": {
    "id": "d24ffb5e"
   },
   "outputs": [],
   "source": [
    "import pandas as pd\n",
    "import numpy as np\n",
    "import matplotlib.pyplot as plt\n",
    "import re"
   ]
  },
  {
   "cell_type": "code",
   "execution_count": 3,
   "id": "351d2aeb",
   "metadata": {
    "id": "351d2aeb"
   },
   "outputs": [],
   "source": [
    "train_data = pd.read_csv('train.txt', sep='\\t', header=None, names=['pmid', 'label', 'txt'])\n",
    "dev_data = pd.read_csv('dev.txt', sep='\\t', header=None, names=['pmid', 'label', 'txt'])\n",
    "test_data = pd.read_csv('test.txt', sep='\\t', header=None, names=['pmid', 'label', 'txt'])"
   ]
  },
  {
   "cell_type": "code",
   "execution_count": 4,
   "id": "c02f59a9",
   "metadata": {
    "colab": {
     "base_uri": "https://localhost:8080/",
     "height": 344
    },
    "id": "c02f59a9",
    "outputId": "978c0558-97bf-4d77-9124-6a05928a551d"
   },
   "outputs": [
    {
     "data": {
      "text/plain": [
       "<matplotlib.axes._subplots.AxesSubplot at 0x7f2054921d10>"
      ]
     },
     "execution_count": 4,
     "metadata": {},
     "output_type": "execute_result"
    },
    {
     "data": {
      "image/png": "[encoded data removed]",
      "text/plain": [
       "<Figure size 432x288 with 1 Axes>"
      ]
     },
     "metadata": {
      "needs_background": "light"
     },
     "output_type": "display_data"
    }
   ],
   "source": [
    "train_data['label'].value_counts().plot(kind='bar')"
   ]
  },
  {
   "cell_type": "code",
   "execution_count": 5,
   "id": "027b2e38",
   "metadata": {
    "colab": {
     "base_uri": "https://localhost:8080/"
    },
    "id": "027b2e38",
    "outputId": "5a6f4674-2a8a-47e5-9538-397d81feee46"
   },
   "outputs": [
    {
     "name": "stdout",
     "output_type": "stream",
     "text": [
      "NLTK Downloader\n",
      "---------------------------------------------------------------------------\n",
      "    d) Download   l) List    u) Update   c) Config   h) Help   q) Quit\n",
      "---------------------------------------------------------------------------\n",
      "Downloader> q\n"
     ]
    },
    {
     "name": "stderr",
     "output_type": "stream",
     "text": [
      "[nltk_data] Downloading package stopwords to /root/nltk_data...\n",
      "[nltk_data]   Unzipping corpora/stopwords.zip.\n",
      "[nltk_data] Downloading package wordnet to /root/nltk_data...\n",
      "[nltk_data] Downloading package punkt to /root/nltk_data...\n",
      "[nltk_data]   Unzipping tokenizers/punkt.zip.\n",
      "[nltk_data] Downloading package averaged_perceptron_tagger to\n",
      "[nltk_data]     /root/nltk_data...\n",
      "[nltk_data]   Unzipping taggers/averaged_perceptron_tagger.zip.\n"
     ]
    },
    {
     "data": {
      "text/plain": [
       "True"
      ]
     },
     "execution_count": 5,
     "metadata": {},
     "output_type": "execute_result"
    }
   ],
   "source": [
    "import nltk\n",
    "import time\n",
    "import ssl\n",
    "\n",
    "try:\n",
    "    _create_unverified_https_context = ssl._create_unverified_context\n",
    "except AttributeError:\n",
    "    pass\n",
    "else:\n",
    "    ssl._create_default_https_context = _create_unverified_https_context\n",
    "nltk.download()\n",
    "nltk.download('stopwords')\n",
    "from nltk.corpus import stopwords\n",
    "from nltk.tokenize import word_tokenize\n",
    "nltk.download('wordnet')\n",
    "nltk.download('punkt')\n",
    "nltk.download('averaged_perceptron_tagger')\n"
   ]
  },
  {
   "cell_type": "code",
   "execution_count": 6,
   "id": "e038a07f",
   "metadata": {
    "id": "e038a07f"
   },
   "outputs": [],
   "source": [
    "# Cleaning process such that replacing punctuation to space, deleting them, or making them lowercase\n",
    "\n",
    "def clean_text(text):\n",
    "    \n",
    "    punctuation = [i for i in ',./\\\\;:\\'@#~[{]}=+-_)(*&^%$£\"!`)]']\n",
    "    STOPWORDS = set(stopwords.words('english'))\n",
    "    \n",
    "    text = text.replace(\"'s\", \"\")\n",
    "    text = \"\".join([\" \" if t in punctuation else t for t in text]).lower()\n",
    "    text = ' '.join(word for word in text.split() if word not in STOPWORDS) # delete stopwords from text\n",
    "    return text\n",
    "\n",
    "def split_training_set(X_train, y_train):\n",
    "    skf = StratifiedKFold(n_splits=3, shuffle=True, random_state=random_seed)\n",
    "    for first_index, second_index in skf.split(X_train, y_train):\n",
    "        X_train_f, X_train_s = X_train[first_index], X_train[second_index]\n",
    "        y_train_f, y_train_s = y_train[first_index], y_train[second_index]\n",
    "        \n",
    "    return X_train_f, y_train_f, X_train_s, y_train_s\n",
    "\n",
    "def evaluate(y_true, y_pred):\n",
    "    y_true = le.inverse_transform(y_true)\n",
    "    y_pred = le.inverse_transform(y_pred)    \n",
    "    print(classification_report(y_true, y_pred))\n",
    "    result = classification_report(y_true, y_pred, output_dict=True)\n",
    "    f1 = result['macro avg']['f1-score']\n",
    "    acc = result['accuracy']\n",
    "    metrics = ['f1-score macro', 'accuracy']\n",
    "    return dict(zip(metrics, [f1, acc]))"
   ]
  },
  {
   "cell_type": "markdown",
   "id": "f1ad384a",
   "metadata": {
    "id": "f1ad384a"
   },
   "source": [
    "### Which vectorizer is the best? Tf-idf vs Bag of words\n",
    "This section aims to find out the best vectorizer that makes the first two machine learning models having better performance with respect to F1-score\n"
   ]
  },
  {
   "cell_type": "code",
   "execution_count": 7,
   "id": "1c5f466c",
   "metadata": {
    "id": "1c5f466c"
   },
   "outputs": [],
   "source": [
    "from sklearn.feature_extraction.text import TfidfTransformer, CountVectorizer, TfidfVectorizer\n",
    "from sklearn.model_selection import StratifiedKFold\n",
    "from sklearn.metrics import classification_report\n",
    "from sklearn.linear_model import LogisticRegression\n",
    "from sklearn.pipeline import Pipeline\n",
    "from sklearn.preprocessing import LabelEncoder\n",
    "from sklearn.svm import LinearSVC\n",
    "from sklearn.utils.class_weight import compute_class_weight"
   ]
  },
  {
   "cell_type": "code",
   "execution_count": 8,
   "id": "d5a65fe6",
   "metadata": {
    "colab": {
     "base_uri": "https://localhost:8080/"
    },
    "id": "d5a65fe6",
    "outputId": "4f49ccba-465a-481e-9f06-1b1bc812d327"
   },
   "outputs": [
    {
     "name": "stdout",
     "output_type": "stream",
     "text": [
      "CPU times: user 46.3 s, sys: 2.57 s, total: 48.8 s\n",
      "Wall time: 48.8 s\n"
     ]
    }
   ],
   "source": [
    "%%time\n",
    "\n",
    "train_text_cleaned = train_data['txt'].apply(clean_text)\n",
    "devel_text_cleaned = dev_data['txt'].apply(clean_text)\n",
    "test_text_cleaned = test_data['txt'].apply(clean_text)\n"
   ]
  },
  {
   "cell_type": "code",
   "execution_count": 9,
   "id": "a664fd4d",
   "metadata": {
    "colab": {
     "base_uri": "https://localhost:8080/"
    },
    "id": "a664fd4d",
    "outputId": "25d8b26f-6550-441f-b41c-6056272d8373"
   },
   "outputs": [
    {
     "data": {
      "text/plain": [
       "{0: 1.657292769365306,\n",
       " 1: 1.3253828032979977,\n",
       " 2: 0.6066753154853166,\n",
       " 3: 2.6019221041982803,\n",
       " 4: 0.6213310786326851}"
      ]
     },
     "execution_count": 9,
     "metadata": {},
     "output_type": "execute_result"
    }
   ],
   "source": [
    "le = LabelEncoder()\n",
    "y_train = le.fit_transform(train_data['label'])\n",
    "y_devel = le.transform(dev_data['label'])\n",
    "y_test = le.transform(test_data['label'])\n",
    "\n",
    "cw = compute_class_weight(class_weight='balanced', classes=np.unique(y_train), y=y_train)\n",
    "cw_dict = dict(zip(np.unique(y_train), cw))\n",
    "cw_dict"
   ]
  },
  {
   "cell_type": "code",
   "execution_count": 10,
   "id": "2d79def5",
   "metadata": {
    "colab": {
     "base_uri": "https://localhost:8080/"
    },
    "id": "2d79def5",
    "outputId": "43433dce-c091-47e9-9ca3-e8d3407f5e19"
   },
   "outputs": [
    {
     "name": "stdout",
     "output_type": "stream",
     "text": [
      "-------Bag of word result----------\n",
      "              precision    recall  f1-score   support\n",
      "\n",
      "  BACKGROUND       0.52      0.58      0.55      3449\n",
      " CONCLUSIONS       0.65      0.68      0.67      4582\n",
      "     METHODS       0.86      0.85      0.85      9964\n",
      "   OBJECTIVE       0.50      0.55      0.53      2376\n",
      "     RESULTS       0.88      0.82      0.84      9841\n",
      "\n",
      "    accuracy                           0.76     30212\n",
      "   macro avg       0.68      0.69      0.69     30212\n",
      "weighted avg       0.77      0.76      0.76     30212\n",
      "\n",
      "-------TFIDF result----------\n",
      "              precision    recall  f1-score   support\n",
      "\n",
      "  BACKGROUND       0.55      0.60      0.57      3449\n",
      " CONCLUSIONS       0.65      0.71      0.68      4582\n",
      "     METHODS       0.87      0.85      0.86      9964\n",
      "   OBJECTIVE       0.51      0.61      0.56      2376\n",
      "     RESULTS       0.89      0.80      0.85      9841\n",
      "\n",
      "    accuracy                           0.77     30212\n",
      "   macro avg       0.70      0.72      0.70     30212\n",
      "weighted avg       0.78      0.77      0.77     30212\n",
      "\n"
     ]
    },
    {
     "data": {
      "text/plain": [
       "{'accuracy': 0.7676419965576592, 'f1-score macro': 0.7037006369592815}"
      ]
     },
     "execution_count": 10,
     "metadata": {},
     "output_type": "execute_result"
    }
   ],
   "source": [
    "bow_vec = CountVectorizer(tokenizer=word_tokenize)\n",
    "tfidf = TfidfVectorizer(tokenizer=word_tokenize)\n",
    "\n",
    "random_seed = 42\n",
    "\n",
    "bow_pipeline = Pipeline([\n",
    "    ('bow', bow_vec),\n",
    "    ('LR', LogisticRegression(class_weight=cw_dict, random_state=random_seed, n_jobs=-1))\n",
    "])\n",
    "\n",
    "tfidf_pipeline = Pipeline([\n",
    "    ('tfidf', tfidf),\n",
    "    ('LR', LogisticRegression(class_weight=cw_dict, random_state=random_seed, n_jobs=-1))\n",
    "])\n",
    "\n",
    "print('-------Bag of word result----------')\n",
    "bow_pipeline.fit(train_text_cleaned, y_train)\n",
    "y_pred = bow_pipeline.predict(devel_text_cleaned)\n",
    "evaluate(y_devel, y_pred)\n",
    "\n",
    "print('-------TFIDF result----------')\n",
    "tfidf_pipeline.fit(train_text_cleaned, y_train)\n",
    "y_pred = tfidf_pipeline.predict(devel_text_cleaned)\n",
    "evaluate(y_devel, y_pred)"
   ]
  },
  {
   "cell_type": "markdown",
   "id": "ca90530c",
   "metadata": {
    "id": "ca90530c"
   },
   "source": [
    "From the experiment, we noticed that TFIDF vectorizer is bit more effective to improve LR's performance.\n",
    "\n",
    "Next, we need to discover the sufficient ngram range for TF-IDF vectorizer to have the best performance. This stage also considers the computational time for each ngram size simultaneously. \n",
    "\n",
    "*Result*\n",
    "bigram and trigram show better performance than unigram. However, for trigram, it takes about 5minutes compared to 11 sec for unigram\n",
    "\n",
    "ngram_range=(1,2) is reasonable to get feasible running time and better performance"
   ]
  },
  {
   "cell_type": "code",
   "execution_count": 11,
   "id": "66041730",
   "metadata": {
    "colab": {
     "base_uri": "https://localhost:8080/"
    },
    "id": "66041730",
    "outputId": "87179320-84d3-4d0c-acf3-3af2d21dea84"
   },
   "outputs": [
    {
     "name": "stdout",
     "output_type": "stream",
     "text": [
      "Time elapsed: 21.17337441444397\n",
      "              precision    recall  f1-score   support\n",
      "\n",
      "  BACKGROUND       0.55      0.58      0.57      3449\n",
      " CONCLUSIONS       0.66      0.71      0.68      4582\n",
      "     METHODS       0.87      0.85      0.86      9964\n",
      "   OBJECTIVE       0.51      0.61      0.56      2376\n",
      "     RESULTS       0.89      0.81      0.85      9841\n",
      "\n",
      "    accuracy                           0.77     30212\n",
      "   macro avg       0.69      0.71      0.70     30212\n",
      "weighted avg       0.78      0.77      0.77     30212\n",
      "\n",
      "Time elapsed: 121.47965288162231\n",
      "              precision    recall  f1-score   support\n",
      "\n",
      "  BACKGROUND       0.60      0.60      0.60      3449\n",
      " CONCLUSIONS       0.67      0.75      0.71      4582\n",
      "     METHODS       0.87      0.87      0.87      9964\n",
      "   OBJECTIVE       0.56      0.60      0.58      2376\n",
      "     RESULTS       0.89      0.82      0.85      9841\n",
      "\n",
      "    accuracy                           0.78     30212\n",
      "   macro avg       0.72      0.73      0.72     30212\n",
      "weighted avg       0.79      0.78      0.79     30212\n",
      "\n",
      "Time elapsed: 293.9814786911011\n",
      "              precision    recall  f1-score   support\n",
      "\n",
      "  BACKGROUND       0.62      0.57      0.59      3449\n",
      " CONCLUSIONS       0.66      0.75      0.70      4582\n",
      "     METHODS       0.86      0.87      0.86      9964\n",
      "   OBJECTIVE       0.55      0.65      0.60      2376\n",
      "     RESULTS       0.89      0.81      0.85      9841\n",
      "\n",
      "    accuracy                           0.78     30212\n",
      "   macro avg       0.72      0.73      0.72     30212\n",
      "weighted avg       0.79      0.78      0.78     30212\n",
      "\n"
     ]
    }
   ],
   "source": [
    "ngram_candidates = [(1,1), (1,2), (1,3)]\n",
    "\n",
    "for ngram in ngram_candidates:\n",
    "    pipeline = Pipeline([\n",
    "        ('tfidf', TfidfVectorizer(ngram_range=ngram)),\n",
    "        ('LR', LogisticRegression(class_weight=cw_dict, random_state=random_seed, n_jobs=-1))\n",
    "    ])\n",
    "    tick = time.time()\n",
    "    pipeline.fit(train_text_cleaned, y_train)\n",
    "    tock = time.time()\n",
    "    print('Time elapsed:', tock-tick)\n",
    "    y_pred = pipeline.predict(devel_text_cleaned)\n",
    "    evaluate(y_devel, y_pred)"
   ]
  },
  {
   "cell_type": "markdown",
   "id": "1b0f9dd0",
   "metadata": {
    "id": "1b0f9dd0"
   },
   "source": [
    "### Model1: Logistic Regression with Tf-idf vectorizer \n",
    "\n",
    "The first model which is the baseline model is to use logistic regression. The only given hyperparameter is balancing class weights for handling imbalanced data."
   ]
  },
  {
   "cell_type": "code",
   "execution_count": 12,
   "id": "bc4cb13c",
   "metadata": {
    "colab": {
     "base_uri": "https://localhost:8080/"
    },
    "id": "bc4cb13c",
    "outputId": "bd46f90d-53e6-41c3-969b-dafbfd2af2aa"
   },
   "outputs": [
    {
     "data": {
      "text/plain": [
       "Pipeline(steps=[('tfidf',\n",
       "                 TfidfVectorizer(ngram_range=(1, 2),\n",
       "                                 tokenizer=<function word_tokenize at 0x7f20435dbcb0>)),\n",
       "                ('LR',\n",
       "                 LogisticRegression(class_weight={0: 1.657292769365306,\n",
       "                                                  1: 1.3253828032979977,\n",
       "                                                  2: 0.6066753154853166,\n",
       "                                                  3: 2.6019221041982803,\n",
       "                                                  4: 0.6213310786326851},\n",
       "                                    n_jobs=-1, random_state=42))])"
      ]
     },
     "execution_count": 12,
     "metadata": {},
     "output_type": "execute_result"
    }
   ],
   "source": [
    "model_results = []\n",
    "\n",
    "ngram = (1,2)\n",
    "model_1 = Pipeline([\n",
    "    ('tfidf', TfidfVectorizer(tokenizer=word_tokenize, ngram_range=ngram)),\n",
    "    ('LR', LogisticRegression(class_weight=cw_dict, random_state=random_seed, n_jobs=-1))\n",
    "])\n",
    "\n",
    "model_1.fit(train_text_cleaned, y_train)"
   ]
  },
  {
   "cell_type": "code",
   "execution_count": 13,
   "id": "8576a167",
   "metadata": {
    "colab": {
     "base_uri": "https://localhost:8080/"
    },
    "id": "8576a167",
    "outputId": "a1a7ae08-70ce-4c2d-e5f1-07725c0de2e2"
   },
   "outputs": [
    {
     "name": "stdout",
     "output_type": "stream",
     "text": [
      "              precision    recall  f1-score   support\n",
      "\n",
      "  BACKGROUND       0.59      0.60      0.59      3449\n",
      " CONCLUSIONS       0.65      0.75      0.70      4582\n",
      "     METHODS       0.86      0.87      0.87      9964\n",
      "   OBJECTIVE       0.55      0.64      0.59      2376\n",
      "     RESULTS       0.90      0.80      0.85      9841\n",
      "\n",
      "    accuracy                           0.78     30212\n",
      "   macro avg       0.71      0.73      0.72     30212\n",
      "weighted avg       0.79      0.78      0.78     30212\n",
      "\n"
     ]
    },
    {
     "data": {
      "text/plain": [
       "{'accuracy': 0.7790282007149477, 'f1-score macro': 0.7193142843567532}"
      ]
     },
     "execution_count": 13,
     "metadata": {},
     "output_type": "execute_result"
    }
   ],
   "source": [
    "y_pred = model_1.predict(devel_text_cleaned)\n",
    "evaluate(y_devel, y_pred)\n"
   ]
  },
  {
   "cell_type": "code",
   "execution_count": 14,
   "id": "bfQ_vSbKvaaZ",
   "metadata": {
    "colab": {
     "base_uri": "https://localhost:8080/"
    },
    "id": "bfQ_vSbKvaaZ",
    "outputId": "739d472e-bf88-48fe-9e89-7d45b1ceb6e2"
   },
   "outputs": [
    {
     "name": "stdout",
     "output_type": "stream",
     "text": [
      "Time elapsed for training: 166.212\n",
      "              precision    recall  f1-score   support\n",
      "\n",
      "  BACKGROUND       0.60      0.60      0.60      3621\n",
      " CONCLUSIONS       0.66      0.76      0.71      4571\n",
      "     METHODS       0.87      0.87      0.87      9897\n",
      "   OBJECTIVE       0.55      0.62      0.58      2333\n",
      "     RESULTS       0.90      0.81      0.85      9713\n",
      "\n",
      "    accuracy                           0.78     30135\n",
      "   macro avg       0.72      0.73      0.72     30135\n",
      "weighted avg       0.79      0.78      0.79     30135\n",
      "\n"
     ]
    }
   ],
   "source": [
    "combined_text_data = pd.concat([train_text_cleaned, devel_text_cleaned], axis=0)\n",
    "len(combined_text_data)\n",
    "combined_text_label = np.concatenate([y_train, y_devel], axis=0)\n",
    "\n",
    "tick = time.time()\n",
    "model_1.fit(combined_text_data, combined_text_label)\n",
    "tock = time.time()\n",
    "\n",
    "print(\"Time elapsed for training: %.3f\" % (tock - tick))\n",
    "\n",
    "y_pred = model_1.predict(test_text_cleaned)\n",
    "model1_result = evaluate(y_test, y_pred)\n",
    "model_results.append(model1_result)"
   ]
  },
  {
   "cell_type": "markdown",
   "id": "a27deadc",
   "metadata": {
    "id": "a27deadc"
   },
   "source": [
    "### Model2: Linear SVM with Tf-idf Vectorizer\n",
    "\n",
    "The next model is Linear SVM with the same technique for imbalanced data. Additional hyperparameter for SVM is cost parameter which is set to 1."
   ]
  },
  {
   "cell_type": "code",
   "execution_count": 15,
   "id": "79afb415",
   "metadata": {
    "colab": {
     "base_uri": "https://localhost:8080/"
    },
    "id": "79afb415",
    "outputId": "be6aba04-69f6-4e9c-ff0b-93f0609c3039"
   },
   "outputs": [
    {
     "data": {
      "text/plain": [
       "Pipeline(steps=[('tf-idf',\n",
       "                 TfidfVectorizer(ngram_range=(1, 2),\n",
       "                                 tokenizer=<function word_tokenize at 0x7f20435dbcb0>)),\n",
       "                ('LinearSVM',\n",
       "                 LinearSVC(C=1,\n",
       "                           class_weight={0: 1.657292769365306,\n",
       "                                         1: 1.3253828032979977,\n",
       "                                         2: 0.6066753154853166,\n",
       "                                         3: 2.6019221041982803,\n",
       "                                         4: 0.6213310786326851},\n",
       "                           random_state=42))])"
      ]
     },
     "execution_count": 15,
     "metadata": {},
     "output_type": "execute_result"
    }
   ],
   "source": [
    "model_2 = Pipeline([\n",
    "    (\"tf-idf\", TfidfVectorizer(tokenizer=word_tokenize, ngram_range=ngram)),\n",
    "    (\"LinearSVM\", LinearSVC(class_weight=cw_dict, random_state=random_seed, C=1))\n",
    "])\n",
    "model_2.fit(train_text_cleaned, y_train)"
   ]
  },
  {
   "cell_type": "code",
   "execution_count": 16,
   "id": "8d9c0ac9",
   "metadata": {
    "colab": {
     "base_uri": "https://localhost:8080/"
    },
    "id": "8d9c0ac9",
    "outputId": "f4d7291a-2d92-463e-a5ce-78f9b61ceea1"
   },
   "outputs": [
    {
     "name": "stdout",
     "output_type": "stream",
     "text": [
      "              precision    recall  f1-score   support\n",
      "\n",
      "  BACKGROUND       0.61      0.58      0.60      3449\n",
      " CONCLUSIONS       0.70      0.73      0.71      4582\n",
      "     METHODS       0.85      0.91      0.88      9964\n",
      "   OBJECTIVE       0.61      0.57      0.59      2376\n",
      "     RESULTS       0.89      0.85      0.87      9841\n",
      "\n",
      "    accuracy                           0.80     30212\n",
      "   macro avg       0.73      0.73      0.73     30212\n",
      "weighted avg       0.80      0.80      0.80     30212\n",
      "\n"
     ]
    },
    {
     "data": {
      "text/plain": [
       "{'accuracy': 0.7972328875943334, 'f1-score macro': 0.7298209444989865}"
      ]
     },
     "execution_count": 16,
     "metadata": {},
     "output_type": "execute_result"
    }
   ],
   "source": [
    "y_pred = model_2.predict(devel_text_cleaned)\n",
    "evaluate(y_devel, y_pred)"
   ]
  },
  {
   "cell_type": "code",
   "execution_count": 17,
   "id": "L1ddFBrc0YE7",
   "metadata": {
    "colab": {
     "base_uri": "https://localhost:8080/"
    },
    "id": "L1ddFBrc0YE7",
    "outputId": "b9fe3a1a-62a8-4c57-e49c-f622e68beb9a"
   },
   "outputs": [
    {
     "name": "stdout",
     "output_type": "stream",
     "text": [
      "Time elapsed for training: 55.866\n",
      "              precision    recall  f1-score   support\n",
      "\n",
      "  BACKGROUND       0.62      0.58      0.60      3621\n",
      " CONCLUSIONS       0.70      0.74      0.72      4571\n",
      "     METHODS       0.85      0.91      0.88      9897\n",
      "   OBJECTIVE       0.60      0.56      0.58      2333\n",
      "     RESULTS       0.89      0.84      0.86      9713\n",
      "\n",
      "    accuracy                           0.79     30135\n",
      "   macro avg       0.73      0.73      0.73     30135\n",
      "weighted avg       0.79      0.79      0.79     30135\n",
      "\n"
     ]
    }
   ],
   "source": [
    "tick = time.time()\n",
    "model_2.fit(combined_text_data, combined_text_label)\n",
    "tock = time.time()\n",
    "\n",
    "print(\"Time elapsed for training: %.3f\" % (tock - tick))\n",
    "\n",
    "y_pred = model_2.predict(test_text_cleaned)\n",
    "model2_result = evaluate(y_test, y_pred)\n",
    "model_results.append(model2_result)"
   ]
  },
  {
   "cell_type": "markdown",
   "id": "e97b0963",
   "metadata": {
    "id": "e97b0963"
   },
   "source": [
    "### Model3: Bidirectional LSTM network\n",
    "\n",
    "#### Word Embedding layer\n",
    "Prior to build word embedding layer, the texts were vectorized using `TextVectorization`. The vectors are encoded as 55 word sequence length which covers 95% of the sentences in the training set. The max size of vocabulary of this vectorizer is 68,000 which is the total number of vocabulary in the training set. After vectorizing, embedding dimension is set to 200 as my machine can handle.\n",
    "#### Bidirectional LSTM\n",
    "- LSTM units: 64\n",
    "- Embedding dimension: 200\n",
    "- Dropout rate: 0.2\n",
    "- Activation: ReLU\n",
    "- Dense layer units: 32\n",
    "\n",
    "#### Training setting\n",
    "- epochs = 5\n",
    "- batch_size = 256\n",
    "- balancing class weights\n"
   ]
  },
  {
   "cell_type": "code",
   "execution_count": 18,
   "id": "0bd0cfc6",
   "metadata": {
    "colab": {
     "base_uri": "https://localhost:8080/"
    },
    "id": "0bd0cfc6",
    "outputId": "cd9835e5-4644-4930-a994-219e1a8911f2"
   },
   "outputs": [
    {
     "data": {
      "text/plain": [
       "55.0"
      ]
     },
     "execution_count": 18,
     "metadata": {},
     "output_type": "execute_result"
    }
   ],
   "source": [
    "import tensorflow as tf\n",
    "from tensorflow.keras.layers.experimental.preprocessing import TextVectorization\n",
    "\n",
    "sentence_len = [len(sent.split()) for sent in train_data['txt'].tolist()]\n",
    "np.percentile(sentence_len, 95)"
   ]
  },
  {
   "cell_type": "code",
   "execution_count": 19,
   "id": "56df8096",
   "metadata": {
    "id": "56df8096"
   },
   "outputs": [],
   "source": [
    "max_tokens = 68000\n",
    "seq_len = 55\n",
    "\n",
    "text_vec = TextVectorization(max_tokens=max_tokens, \n",
    "                             pad_to_max_tokens=True, \n",
    "                             output_sequence_length=seq_len,\n",
    "                             output_mode='int')\n",
    "text_vec.adapt(train_text_cleaned)"
   ]
  },
  {
   "cell_type": "code",
   "execution_count": 20,
   "id": "9986a6f8",
   "metadata": {
    "id": "9986a6f8"
   },
   "outputs": [],
   "source": [
    "from tensorflow.keras.utils import to_categorical, set_random_seed\n",
    "from keras.layers import Embedding, Dropout, Dropout, Dense, GlobalMaxPooling1D\n",
    "from keras.layers import Conv1D, Bidirectional, LSTM, Input\n",
    "from sklearn.metrics import f1_score\n",
    "\n",
    "random_seed = 42\n",
    "embedding_dim = 200\n",
    "hidden_dims=32\n",
    "filter1 = 64\n",
    "dropout_rate=0.2\n",
    "input_dim = len(text_vec.get_vocabulary())\n",
    "set_random_seed(random_seed)\n",
    "# np.set_random_seed(random_seed)\n",
    "\n",
    "y_train_vec = to_categorical(y_train, num_classes=5, dtype=int)\n",
    "y_devel_vec = to_categorical(y_devel, num_classes=5, dtype=int)\n",
    "y_test_vec = to_categorical(y_test, num_classes=5, dtype=int)\n",
    "\n",
    "# x_train = pad_sequences(train_text_cleaned, maxlen=seq_len)\n",
    "# x_test = pad_sequences(devel_text_cleaned, maxlen=seq_len)"
   ]
  },
  {
   "cell_type": "code",
   "execution_count": 21,
   "id": "17accdf0",
   "metadata": {
    "id": "17accdf0"
   },
   "outputs": [],
   "source": [
    "def create_model3():\n",
    "  model_3 = tf.keras.Sequential()\n",
    "\n",
    "  model_3.add(tf.keras.Input(shape=(1,), dtype=tf.string))\n",
    "  model_3.add(text_vec)\n",
    "  model_3.add(Embedding(input_dim=input_dim,\n",
    "                      output_dim=embedding_dim,\n",
    "                      mask_zero=True,\n",
    "                    input_length=seq_len))\n",
    "  model_3.add(Bidirectional(LSTM(filter1, return_sequences=False)))\n",
    "  model_3.add(Dropout(dropout_rate))\n",
    "\n",
    "  model_3.add(Dense(hidden_dims, activation='relu'))\n",
    "  model_3.add(Dropout(dropout_rate))\n",
    "\n",
    "  model_3.add(Dense(5, activation='softmax'))\n",
    "\n",
    "  model_3.compile(loss='categorical_crossentropy',\n",
    "                optimizer='adam',\n",
    "                metrics=['accuracy'])\n",
    "\n",
    "  print('Finished building model.\\n')\n",
    "  print(model_3.summary())\n",
    "  return model_3"
   ]
  },
  {
   "cell_type": "code",
   "execution_count": 22,
   "id": "08ee6dcf",
   "metadata": {
    "colab": {
     "base_uri": "https://localhost:8080/"
    },
    "id": "08ee6dcf",
    "outputId": "a323aabb-99cd-4bba-d631-282405a6e7c9"
   },
   "outputs": [
    {
     "name": "stdout",
     "output_type": "stream",
     "text": [
      "Finished building model.\n",
      "\n",
      "Model: \"sequential\"\n",
      "_________________________________________________________________\n",
      " Layer (type)                Output Shape              Param #   \n",
      "=================================================================\n",
      " text_vectorization (TextVec  (None, 55)               0         \n",
      " torization)                                                     \n",
      "                                                                 \n",
      " embedding (Embedding)       (None, 55, 200)           11580400  \n",
      "                                                                 \n",
      " bidirectional (Bidirectiona  (None, 128)              135680    \n",
      " l)                                                              \n",
      "                                                                 \n",
      " dropout (Dropout)           (None, 128)               0         \n",
      "                                                                 \n",
      " dense (Dense)               (None, 32)                4128      \n",
      "                                                                 \n",
      " dropout_1 (Dropout)         (None, 32)                0         \n",
      "                                                                 \n",
      " dense_1 (Dense)             (None, 5)                 165       \n",
      "                                                                 \n",
      "=================================================================\n",
      "Total params: 11,720,373\n",
      "Trainable params: 11,720,373\n",
      "Non-trainable params: 0\n",
      "_________________________________________________________________\n",
      "None\n",
      "Epoch 1/5\n",
      "704/704 [==============================] - 46s 46ms/step - loss: 0.8162 - accuracy: 0.7355 - val_loss: 0.5748 - val_accuracy: 0.7913\n",
      "Epoch 2/5\n",
      "704/704 [==============================] - 30s 42ms/step - loss: 0.5710 - accuracy: 0.8247 - val_loss: 0.5981 - val_accuracy: 0.7787\n",
      "Epoch 3/5\n",
      "704/704 [==============================] - 30s 42ms/step - loss: 0.4387 - accuracy: 0.8661 - val_loss: 0.6234 - val_accuracy: 0.7794\n",
      "Epoch 4/5\n",
      "704/704 [==============================] - 30s 43ms/step - loss: 0.3339 - accuracy: 0.8955 - val_loss: 0.7471 - val_accuracy: 0.7710\n",
      "Epoch 5/5\n",
      "704/704 [==============================] - 31s 43ms/step - loss: 0.2584 - accuracy: 0.9169 - val_loss: 0.8434 - val_accuracy: 0.7634\n"
     ]
    },
    {
     "data": {
      "text/plain": [
       "<keras.callbacks.History at 0x7f20120862d0>"
      ]
     },
     "execution_count": 22,
     "metadata": {},
     "output_type": "execute_result"
    }
   ],
   "source": [
    "model_3 = create_model3()\n",
    "model_3.fit(train_text_cleaned, y_train_vec, class_weight=cw_dict, batch_size=256, epochs=5, validation_data=(devel_text_cleaned, y_devel_vec))"
   ]
  },
  {
   "cell_type": "code",
   "execution_count": 23,
   "id": "90fe9b29",
   "metadata": {
    "colab": {
     "base_uri": "https://localhost:8080/"
    },
    "id": "90fe9b29",
    "outputId": "01022dd8-b163-4a11-806a-95f4f41bca96"
   },
   "outputs": [
    {
     "name": "stdout",
     "output_type": "stream",
     "text": [
      "Finished building model.\n",
      "\n",
      "Model: \"sequential_1\"\n",
      "_________________________________________________________________\n",
      " Layer (type)                Output Shape              Param #   \n",
      "=================================================================\n",
      " text_vectorization (TextVec  (None, 55)               0         \n",
      " torization)                                                     \n",
      "                                                                 \n",
      " embedding_1 (Embedding)     (None, 55, 200)           11580400  \n",
      "                                                                 \n",
      " bidirectional_1 (Bidirectio  (None, 128)              135680    \n",
      " nal)                                                            \n",
      "                                                                 \n",
      " dropout_2 (Dropout)         (None, 128)               0         \n",
      "                                                                 \n",
      " dense_2 (Dense)             (None, 32)                4128      \n",
      "                                                                 \n",
      " dropout_3 (Dropout)         (None, 32)                0         \n",
      "                                                                 \n",
      " dense_3 (Dense)             (None, 5)                 165       \n",
      "                                                                 \n",
      "=================================================================\n",
      "Total params: 11,720,373\n",
      "Trainable params: 11,720,373\n",
      "Non-trainable params: 0\n",
      "_________________________________________________________________\n",
      "None\n",
      "Epoch 1/5\n",
      "822/822 [==============================] - 42s 41ms/step - loss: 0.7990 - accuracy: 0.7380\n",
      "Epoch 2/5\n",
      "822/822 [==============================] - 33s 40ms/step - loss: 0.5668 - accuracy: 0.8261\n",
      "Epoch 3/5\n",
      "822/822 [==============================] - 33s 40ms/step - loss: 0.4405 - accuracy: 0.8653\n",
      "Epoch 4/5\n",
      "822/822 [==============================] - 33s 40ms/step - loss: 0.3402 - accuracy: 0.8936\n",
      "Epoch 5/5\n",
      "822/822 [==============================] - 33s 41ms/step - loss: 0.2626 - accuracy: 0.9156\n",
      "              precision    recall  f1-score   support\n",
      "\n",
      "  BACKGROUND       0.57      0.53      0.55      3621\n",
      " CONCLUSIONS       0.68      0.67      0.68      4571\n",
      "     METHODS       0.86      0.87      0.86      9897\n",
      "   OBJECTIVE       0.49      0.63      0.55      2333\n",
      "     RESULTS       0.87      0.83      0.84      9713\n",
      "\n",
      "    accuracy                           0.76     30135\n",
      "   macro avg       0.69      0.70      0.70     30135\n",
      "weighted avg       0.77      0.76      0.77     30135\n",
      "\n"
     ]
    }
   ],
   "source": [
    "model_3 = create_model3()\n",
    "combined_text_data = pd.concat([train_text_cleaned, devel_text_cleaned], axis=0)\n",
    "combined_labels_vec = np.concatenate([y_train_vec, y_devel_vec], axis=0)\n",
    "model_3.fit(combined_text_data, combined_labels_vec, class_weight=cw_dict, batch_size=256, epochs=5)\n",
    "\n",
    "y_pred_vec = model_3.predict(test_text_cleaned)\n",
    "y_pred = np.argmax(y_pred_vec, axis=1)\n",
    "model3_result = evaluate(y_test, y_pred)\n",
    "model_results.append(model3_result)"
   ]
  },
  {
   "cell_type": "markdown",
   "id": "3850d65a",
   "metadata": {
    "id": "3850d65a"
   },
   "source": [
    "### Model4: Different embedding layer with the Bidirectional LSTM network\n",
    "\n",
    "Model 4 uses GloVe embedding sourced by [Stanford NLP lab](https://nlp.stanford.edu/projects/glove/).\n",
    "- Used 200 dimension version\n",
    "- All other settings are identical to the previous model\n",
    "\n"
   ]
  },
  {
   "cell_type": "code",
   "execution_count": 24,
   "id": "5d8016c8",
   "metadata": {
    "colab": {
     "base_uri": "https://localhost:8080/"
    },
    "id": "5d8016c8",
    "outputId": "fbd179b2-d6da-4b8d-8773-8d9ec4650241"
   },
   "outputs": [
    {
     "name": "stdout",
     "output_type": "stream",
     "text": [
      "Loaded 400001 word vectors.\n"
     ]
    }
   ],
   "source": [
    "from numpy import array\n",
    "\n",
    "# loading pre-trained weights and build embedding layer\n",
    "embeddings_index = dict()\n",
    "f = open('glove.6B.200d.txt')\n",
    "for line in f:\n",
    "\tvalues = line.split()\n",
    "\tword = values[0]\n",
    "\tcoefs = np.asarray(values[1:], dtype='float32')\n",
    "\tembeddings_index[word] = coefs\n",
    "f.close()\n",
    "print('Loaded %s word vectors.' % len(embeddings_index))"
   ]
  },
  {
   "cell_type": "code",
   "execution_count": 25,
   "id": "5b377fcd",
   "metadata": {
    "id": "5b377fcd"
   },
   "outputs": [],
   "source": [
    "embedding_matrix = np.zeros((input_dim + 1, embedding_dim))\n",
    "for i, word in enumerate(text_vec.get_vocabulary()):\n",
    "    embedding_vector = embeddings_index.get(word)\n",
    "    if embedding_vector is not None:\n",
    "        # words not found in embedding index will be all-zeros.\n",
    "        embedding_matrix[i] = embedding_vector"
   ]
  },
  {
   "cell_type": "code",
   "execution_count": 26,
   "id": "d029550b",
   "metadata": {
    "id": "d029550b"
   },
   "outputs": [],
   "source": [
    "embedding_layer = Embedding(input_dim + 1, \n",
    "                            embedding_dim,\n",
    "                            weights=[embedding_matrix],\n",
    "                            input_length=seq_len,\n",
    "                            trainable=False,\n",
    "                            name='embedding_layer')"
   ]
  },
  {
   "cell_type": "code",
   "execution_count": 27,
   "id": "ae17abc7",
   "metadata": {
    "id": "ae17abc7"
   },
   "outputs": [],
   "source": [
    "def create_model4():\n",
    "  model_4 = tf.keras.Sequential()\n",
    "\n",
    "  model_4.add(Input(shape=(1,), dtype=tf.string))\n",
    "  model_4.add(text_vec)\n",
    "  model_4.add(embedding_layer)\n",
    "  model_4.add(Bidirectional(LSTM(filter1, return_sequences=False)))\n",
    "  model_4.add(Dropout(0.2))\n",
    "  model_4.add(Dense(hidden_dims, activation='relu'))\n",
    "  model_4.add(Dropout(0.2))\n",
    "\n",
    "  model_4.add(Dense(5, activation='softmax'))\n",
    "\n",
    "  model_4.compile(loss='categorical_crossentropy',\n",
    "                optimizer='adam',\n",
    "                metrics=['accuracy'])\n",
    "\n",
    "  print('Finished building model.\\n')\n",
    "  print(model_4.summary())\n",
    "  return model_4"
   ]
  },
  {
   "cell_type": "code",
   "execution_count": 28,
   "id": "6d0ff0c2",
   "metadata": {
    "colab": {
     "base_uri": "https://localhost:8080/"
    },
    "id": "6d0ff0c2",
    "outputId": "58c6dc3b-dda2-4c8f-d817-984a151a1fc6"
   },
   "outputs": [
    {
     "name": "stdout",
     "output_type": "stream",
     "text": [
      "Finished building model.\n",
      "\n",
      "Model: \"sequential_2\"\n",
      "_________________________________________________________________\n",
      " Layer (type)                Output Shape              Param #   \n",
      "=================================================================\n",
      " text_vectorization (TextVec  (None, 55)               0         \n",
      " torization)                                                     \n",
      "                                                                 \n",
      " embedding_layer (Embedding)  (None, 55, 200)          11580600  \n",
      "                                                                 \n",
      " bidirectional_2 (Bidirectio  (None, 128)              135680    \n",
      " nal)                                                            \n",
      "                                                                 \n",
      " dropout_4 (Dropout)         (None, 128)               0         \n",
      "                                                                 \n",
      " dense_4 (Dense)             (None, 32)                4128      \n",
      "                                                                 \n",
      " dropout_5 (Dropout)         (None, 32)                0         \n",
      "                                                                 \n",
      " dense_5 (Dense)             (None, 5)                 165       \n",
      "                                                                 \n",
      "=================================================================\n",
      "Total params: 11,720,573\n",
      "Trainable params: 139,973\n",
      "Non-trainable params: 11,580,600\n",
      "_________________________________________________________________\n",
      "None\n",
      "Epoch 1/5\n",
      "704/704 [==============================] - 15s 17ms/step - loss: 0.9105 - accuracy: 0.6836 - val_loss: 0.6511 - val_accuracy: 0.7560\n",
      "Epoch 2/5\n",
      "704/704 [==============================] - 11s 16ms/step - loss: 0.7558 - accuracy: 0.7538 - val_loss: 0.6128 - val_accuracy: 0.7733\n",
      "Epoch 3/5\n",
      "704/704 [==============================] - 11s 16ms/step - loss: 0.7044 - accuracy: 0.7738 - val_loss: 0.5698 - val_accuracy: 0.7872\n",
      "Epoch 4/5\n",
      "704/704 [==============================] - 11s 16ms/step - loss: 0.6723 - accuracy: 0.7851 - val_loss: 0.5650 - val_accuracy: 0.7904\n",
      "Epoch 5/5\n",
      "704/704 [==============================] - 11s 16ms/step - loss: 0.6500 - accuracy: 0.7932 - val_loss: 0.5630 - val_accuracy: 0.7926\n"
     ]
    },
    {
     "data": {
      "text/plain": [
       "<keras.callbacks.History at 0x7f1f25396050>"
      ]
     },
     "execution_count": 28,
     "metadata": {},
     "output_type": "execute_result"
    }
   ],
   "source": [
    "model_4 = create_model4()\n",
    "model_4.fit(train_text_cleaned, y_train_vec, class_weight=cw_dict, batch_size=256, epochs=5, validation_data=(devel_text_cleaned, y_devel_vec))"
   ]
  },
  {
   "cell_type": "code",
   "execution_count": 29,
   "id": "rcVgGjS6A0fX",
   "metadata": {
    "colab": {
     "base_uri": "https://localhost:8080/"
    },
    "id": "rcVgGjS6A0fX",
    "outputId": "2a2b6cb4-fbd5-4791-ac6a-136f884cab6c"
   },
   "outputs": [
    {
     "name": "stdout",
     "output_type": "stream",
     "text": [
      "Finished building model.\n",
      "\n",
      "Model: \"sequential_3\"\n",
      "_________________________________________________________________\n",
      " Layer (type)                Output Shape              Param #   \n",
      "=================================================================\n",
      " text_vectorization (TextVec  (None, 55)               0         \n",
      " torization)                                                     \n",
      "                                                                 \n",
      " embedding_layer (Embedding)  (None, 55, 200)          11580600  \n",
      "                                                                 \n",
      " bidirectional_3 (Bidirectio  (None, 128)              135680    \n",
      " nal)                                                            \n",
      "                                                                 \n",
      " dropout_6 (Dropout)         (None, 128)               0         \n",
      "                                                                 \n",
      " dense_6 (Dense)             (None, 32)                4128      \n",
      "                                                                 \n",
      " dropout_7 (Dropout)         (None, 32)                0         \n",
      "                                                                 \n",
      " dense_7 (Dense)             (None, 5)                 165       \n",
      "                                                                 \n",
      "=================================================================\n",
      "Total params: 11,720,573\n",
      "Trainable params: 139,973\n",
      "Non-trainable params: 11,580,600\n",
      "_________________________________________________________________\n",
      "None\n",
      "Epoch 1/5\n",
      "822/822 [==============================] - 16s 15ms/step - loss: 0.8950 - accuracy: 0.6928\n",
      "Epoch 2/5\n",
      "822/822 [==============================] - 13s 15ms/step - loss: 0.7372 - accuracy: 0.7626\n",
      "Epoch 3/5\n",
      "822/822 [==============================] - 12s 15ms/step - loss: 0.6883 - accuracy: 0.7817\n",
      "Epoch 4/5\n",
      "822/822 [==============================] - 12s 15ms/step - loss: 0.6590 - accuracy: 0.7923\n",
      "Epoch 5/5\n",
      "822/822 [==============================] - 12s 15ms/step - loss: 0.6354 - accuracy: 0.8002\n",
      "              precision    recall  f1-score   support\n",
      "\n",
      "  BACKGROUND       0.59      0.64      0.61      3621\n",
      " CONCLUSIONS       0.66      0.77      0.71      4571\n",
      "     METHODS       0.89      0.87      0.88      9897\n",
      "   OBJECTIVE       0.59      0.64      0.62      2333\n",
      "     RESULTS       0.90      0.82      0.86      9713\n",
      "\n",
      "    accuracy                           0.79     30135\n",
      "   macro avg       0.73      0.74      0.73     30135\n",
      "weighted avg       0.80      0.79      0.79     30135\n",
      "\n"
     ]
    }
   ],
   "source": [
    "model_4 = create_model4()\n",
    "model_4.fit(combined_text_data, combined_labels_vec, class_weight=cw_dict, batch_size=256, epochs=5)\n",
    "\n",
    "y_pred_vec = model_4.predict(test_text_cleaned)\n",
    "y_pred = np.argmax(y_pred_vec, axis=1)\n",
    "model4_result = evaluate(y_test, y_pred)\n",
    "model_results.append(model4_result)"
   ]
  },
  {
   "cell_type": "markdown",
   "id": "d363639c",
   "metadata": {
    "id": "d363639c"
   },
   "source": [
    "### Model5: Model from the paper\n",
    "\n",
    "The last model is built as follows:\n",
    "\n",
    "- The sequential information of sentences can be extracted from the dataset. Each `pmid` has several sentences and each sentence is written in particular line. Therefore, sentence location and total number of lines in the abstract can be manifested. This model uses this data as additional information.\n",
    "- This should be effective because abstracts are typically structured writing especially medical paper. Additionally, it is obvious the 'METHOD' is followed by 'RESULT'. Such information would be helpful for the model to classify the sentence."
   ]
  },
  {
   "cell_type": "code",
   "execution_count": 30,
   "id": "d2dff6aa",
   "metadata": {
    "colab": {
     "base_uri": "https://localhost:8080/"
    },
    "id": "d2dff6aa",
    "outputId": "0698cfa5-18fb-407a-f682-dc385e7fe46a"
   },
   "outputs": [
    {
     "name": "stderr",
     "output_type": "stream",
     "text": [
      "/usr/local/lib/python3.7/dist-packages/ipykernel_launcher.py:8: SettingWithCopyWarning: \n",
      "A value is trying to be set on a copy of a slice from a DataFrame\n",
      "\n",
      "See the caveats in the documentation: https://pandas.pydata.org/pandas-docs/stable/user_guide/indexing.html#returning-a-view-versus-a-copy\n",
      "  \n",
      "/usr/local/lib/python3.7/dist-packages/ipykernel_launcher.py:15: SettingWithCopyWarning: \n",
      "A value is trying to be set on a copy of a slice from a DataFrame\n",
      "\n",
      "See the caveats in the documentation: https://pandas.pydata.org/pandas-docs/stable/user_guide/indexing.html#returning-a-view-versus-a-copy\n",
      "  from ipykernel import kernelapp as app\n"
     ]
    }
   ],
   "source": [
    "def cal_lines(data):\n",
    "  lines = []\n",
    "  current = 0\n",
    "  count = 0\n",
    "  data['total_lines'] = 0\n",
    "  for i, id in enumerate(data['pmid']):\n",
    "      if current != id:\n",
    "          data['total_lines'][i-count:i] = count\n",
    "          current = id\n",
    "          count = 1\n",
    "      else:\n",
    "          count += 1\n",
    "      lines.append(count)\n",
    "\n",
    "  data['total_lines'][i-count+1:] = count\n",
    "  data['line_number'] = lines\n",
    "  return data\n",
    "\n",
    "train_data = cal_lines(train_data)\n",
    "dev_data = cal_lines(dev_data)\n",
    "test_data = cal_lines(test_data)"
   ]
  },
  {
   "cell_type": "code",
   "execution_count": 39,
   "id": "yPv3wdMMpwfn",
   "metadata": {
    "colab": {
     "base_uri": "https://localhost:8080/",
     "height": 206
    },
    "id": "yPv3wdMMpwfn",
    "outputId": "969eb343-7a01-4060-f8b8-2f4aa1bce97d"
   },
   "outputs": [
    {
     "data": {
      "text/html": [
       "\n",
       "  <div id=\"df-eeb605e4-12f0-42f6-8da1-56d96c502458\">\n",
       "    <div class=\"colab-df-container\">\n",
       "      <div>\n",
       "<style scoped>\n",
       "    .dataframe tbody tr th:only-of-type {\n",
       "        vertical-align: middle;\n",
       "    }\n",
       "\n",
       "    .dataframe tbody tr th {\n",
       "        vertical-align: top;\n",
       "    }\n",
       "\n",
       "    .dataframe thead th {\n",
       "        text-align: right;\n",
       "    }\n",
       "</style>\n",
       "<table border=\"1\" class=\"dataframe\">\n",
       "  <thead>\n",
       "    <tr style=\"text-align: right;\">\n",
       "      <th></th>\n",
       "      <th>pmid</th>\n",
       "      <th>label</th>\n",
       "      <th>txt</th>\n",
       "      <th>total_lines</th>\n",
       "      <th>line_number</th>\n",
       "    </tr>\n",
       "  </thead>\n",
       "  <tbody>\n",
       "    <tr>\n",
       "      <th>0</th>\n",
       "      <td>24293578</td>\n",
       "      <td>OBJECTIVE</td>\n",
       "      <td>To investigate the efficacy of 6 weeks of dail...</td>\n",
       "      <td>12</td>\n",
       "      <td>1</td>\n",
       "    </tr>\n",
       "    <tr>\n",
       "      <th>1</th>\n",
       "      <td>24293578</td>\n",
       "      <td>METHODS</td>\n",
       "      <td>A total of 125 patients with primary knee OA w...</td>\n",
       "      <td>12</td>\n",
       "      <td>2</td>\n",
       "    </tr>\n",
       "    <tr>\n",
       "      <th>2</th>\n",
       "      <td>24293578</td>\n",
       "      <td>METHODS</td>\n",
       "      <td>Outcome measures included pain reduction and i...</td>\n",
       "      <td>12</td>\n",
       "      <td>3</td>\n",
       "    </tr>\n",
       "    <tr>\n",
       "      <th>3</th>\n",
       "      <td>24293578</td>\n",
       "      <td>METHODS</td>\n",
       "      <td>Pain was assessed using the visual analog pain...</td>\n",
       "      <td>12</td>\n",
       "      <td>4</td>\n",
       "    </tr>\n",
       "    <tr>\n",
       "      <th>4</th>\n",
       "      <td>24293578</td>\n",
       "      <td>METHODS</td>\n",
       "      <td>Secondary outcome measures included the Wester...</td>\n",
       "      <td>12</td>\n",
       "      <td>5</td>\n",
       "    </tr>\n",
       "  </tbody>\n",
       "</table>\n",
       "</div>\n",
       "      <button class=\"colab-df-convert\" onclick=\"convertToInteractive('df-eeb605e4-12f0-42f6-8da1-56d96c502458')\"\n",
       "              title=\"Convert this dataframe to an interactive table.\"\n",
       "              style=\"display:none;\">\n",
       "        \n",
       "  <svg xmlns=\"http://www.w3.org/2000/svg\" height=\"24px\"viewBox=\"0 0 24 24\"\n",
       "       width=\"24px\">\n",
       "    <path d=\"M0 0h24v24H0V0z\" fill=\"none\"/>\n",
       "    <path d=\"M18.56 5.44l.94 2.06.94-2.06 2.06-.94-2.06-.94-.94-2.06-.94 2.06-2.06.94zm-11 1L8.5 8.5l.94-2.06 2.06-.94-2.06-.94L8.5 2.5l-.94 2.06-2.06.94zm10 10l.94 2.06.94-2.06 2.06-.94-2.06-.94-.94-2.06-.94 2.06-2.06.94z\"/><path d=\"M17.41 7.96l-1.37-1.37c-.4-.4-.92-.59-1.43-.59-.52 0-1.04.2-1.43.59L10.3 9.45l-7.72 7.72c-.78.78-.78 2.05 0 2.83L4 21.41c.39.39.9.59 1.41.59.51 0 1.02-.2 1.41-.59l7.78-7.78 2.81-2.81c.8-.78.8-2.07 0-2.86zM5.41 20L4 18.59l7.72-7.72 1.47 1.35L5.41 20z\"/>\n",
       "  </svg>\n",
       "      </button>\n",
       "      \n",
       "  <style>\n",
       "    .colab-df-container {\n",
       "      display:flex;\n",
       "      flex-wrap:wrap;\n",
       "      gap: 12px;\n",
       "    }\n",
       "\n",
       "    .colab-df-convert {\n",
       "      background-color: #E8F0FE;\n",
       "      border: none;\n",
       "      border-radius: 50%;\n",
       "      cursor: pointer;\n",
       "      display: none;\n",
       "      fill: #1967D2;\n",
       "      height: 32px;\n",
       "      padding: 0 0 0 0;\n",
       "      width: 32px;\n",
       "    }\n",
       "\n",
       "    .colab-df-convert:hover {\n",
       "      background-color: #E2EBFA;\n",
       "      box-shadow: 0px 1px 2px rgba(60, 64, 67, 0.3), 0px 1px 3px 1px rgba(60, 64, 67, 0.15);\n",
       "      fill: #174EA6;\n",
       "    }\n",
       "\n",
       "    [theme=dark] .colab-df-convert {\n",
       "      background-color: #3B4455;\n",
       "      fill: #D2E3FC;\n",
       "    }\n",
       "\n",
       "    [theme=dark] .colab-df-convert:hover {\n",
       "      background-color: #434B5C;\n",
       "      box-shadow: 0px 1px 3px 1px rgba(0, 0, 0, 0.15);\n",
       "      filter: drop-shadow(0px 1px 2px rgba(0, 0, 0, 0.3));\n",
       "      fill: #FFFFFF;\n",
       "    }\n",
       "  </style>\n",
       "\n",
       "      <script>\n",
       "        const buttonEl =\n",
       "          document.querySelector('#df-eeb605e4-12f0-42f6-8da1-56d96c502458 button.colab-df-convert');\n",
       "        buttonEl.style.display =\n",
       "          google.colab.kernel.accessAllowed ? 'block' : 'none';\n",
       "\n",
       "        async function convertToInteractive(key) {\n",
       "          const element = document.querySelector('#df-eeb605e4-12f0-42f6-8da1-56d96c502458');\n",
       "          const dataTable =\n",
       "            await google.colab.kernel.invokeFunction('convertToInteractive',\n",
       "                                                     [key], {});\n",
       "          if (!dataTable) return;\n",
       "\n",
       "          const docLinkHtml = 'Like what you see? Visit the ' +\n",
       "            '<a target=\"_blank\" href=https://colab.research.google.com/notebooks/data_table.ipynb>data table notebook</a>'\n",
       "            + ' to learn more about interactive tables.';\n",
       "          element.innerHTML = '';\n",
       "          dataTable['output_type'] = 'display_data';\n",
       "          await google.colab.output.renderOutput(dataTable, element);\n",
       "          const docLink = document.createElement('div');\n",
       "          docLink.innerHTML = docLinkHtml;\n",
       "          element.appendChild(docLink);\n",
       "        }\n",
       "      </script>\n",
       "    </div>\n",
       "  </div>\n",
       "  "
      ],
      "text/plain": [
       "       pmid      label                                                txt  \\\n",
       "0  24293578  OBJECTIVE  To investigate the efficacy of 6 weeks of dail...   \n",
       "1  24293578    METHODS  A total of 125 patients with primary knee OA w...   \n",
       "2  24293578    METHODS  Outcome measures included pain reduction and i...   \n",
       "3  24293578    METHODS  Pain was assessed using the visual analog pain...   \n",
       "4  24293578    METHODS  Secondary outcome measures included the Wester...   \n",
       "\n",
       "   total_lines  line_number  \n",
       "0           12            1  \n",
       "1           12            2  \n",
       "2           12            3  \n",
       "3           12            4  \n",
       "4           12            5  "
      ]
     },
     "execution_count": 39,
     "metadata": {},
     "output_type": "execute_result"
    }
   ],
   "source": [
    "train_data.head()"
   ]
  },
  {
   "cell_type": "code",
   "execution_count": 31,
   "id": "785b4095",
   "metadata": {
    "colab": {
     "base_uri": "https://localhost:8080/"
    },
    "id": "785b4095",
    "outputId": "b3ab0344-35b8-43d6-c017-6b67682fe5c6"
   },
   "outputs": [
    {
     "name": "stdout",
     "output_type": "stream",
     "text": [
      "Model: \"model_2\"\n",
      "__________________________________________________________________________________________________\n",
      " Layer (type)                   Output Shape         Param #     Connected to                     \n",
      "==================================================================================================\n",
      " token_model_input (InputLayer)  [(None, 1)]         0           []                               \n",
      "                                                                                                  \n",
      " text_vectorization (TextVector  (None, 55)          0           ['token_model_input[0][0]']      \n",
      " ization)                                                                                         \n",
      "                                                                                                  \n",
      " embedding_layer (Embedding)    (None, 55, 200)      11580600    ['text_vectorization[4][0]']     \n",
      "                                                                                                  \n",
      " bidirectional_4 (Bidirectional  (None, 128)         135680      ['embedding_layer[2][0]']        \n",
      " )                                                                                                \n",
      "                                                                                                  \n",
      " dropout_8 (Dropout)            (None, 128)          0           ['bidirectional_4[0][0]']        \n",
      "                                                                                                  \n",
      " token_dense (Dense)            (None, 32)           4128        ['dropout_8[0][0]']              \n",
      "                                                                                                  \n",
      " line_model_input (InputLayer)  [(None, 2)]          0           []                               \n",
      "                                                                                                  \n",
      " dropout_9 (Dropout)            (None, 32)           0           ['token_dense[0][0]']            \n",
      "                                                                                                  \n",
      " line_model_dense (Dense)       (None, 32)           96          ['line_model_input[0][0]']       \n",
      "                                                                                                  \n",
      " concatenate (Concatenate)      (None, 64)           0           ['dropout_9[0][0]',              \n",
      "                                                                  'line_model_dense[0][0]']       \n",
      "                                                                                                  \n",
      " last_dense (Dense)             (None, 32)           2080        ['concatenate[0][0]']            \n",
      "                                                                                                  \n",
      " dropout_10 (Dropout)           (None, 32)           0           ['last_dense[0][0]']             \n",
      "                                                                                                  \n",
      " dense_8 (Dense)                (None, 5)            165         ['dropout_10[0][0]']             \n",
      "                                                                                                  \n",
      "==================================================================================================\n",
      "Total params: 11,722,749\n",
      "Trainable params: 142,149\n",
      "Non-trainable params: 11,580,600\n",
      "__________________________________________________________________________________________________\n",
      "None\n"
     ]
    }
   ],
   "source": [
    "from keras.layers import Concatenate\n",
    "from tensorflow.keras import Model\n",
    "\n",
    "def create_model5():\n",
    "  line_model_input = Input(shape=(2,), dtype=tf.int32, name=\"line_model_input\")\n",
    "  line_model_dense = Dense(hidden_dims, activation='relu', name=\"line_model_dense\")(line_model_input)\n",
    "  line_model = Model(inputs=line_model_input, outputs=line_model_dense)\n",
    "\n",
    "  token_model_input = Input(shape=(1,), dtype=tf.string, name=\"token_model_input\")\n",
    "  token_vector = text_vec(token_model_input)\n",
    "  token_embedding = embedding_layer(token_vector)\n",
    "  token_bilstm = Bidirectional(LSTM(filter1, return_sequences=False, name='bi-lstm'))(token_embedding)\n",
    "  token_bilstm = Dropout(dropout_rate)(token_bilstm)\n",
    "  token_dense = Dense(hidden_dims, activation='relu', name='token_dense')(token_bilstm)\n",
    "  token_dense = Dropout(dropout_rate)(token_dense)\n",
    "  token_model = Model(inputs=token_model_input, outputs=token_dense)\n",
    "\n",
    "  concat = Concatenate()([token_model.output, line_model.output])\n",
    "  dense_last = Dense(hidden_dims, activation='relu', name='last_dense')(concat)\n",
    "  dense_last = Dropout(0.2)(dense_last)\n",
    "\n",
    "  output = Dense(5, activation='softmax')(dense_last)\n",
    "\n",
    "  model_5 = Model(inputs=[\n",
    "                          line_model.input,\n",
    "                          token_model.input],\n",
    "                  outputs=output)\n",
    "\n",
    "\n",
    "  model_5.compile(loss='categorical_crossentropy',\n",
    "                optimizer='adam',\n",
    "                metrics=['accuracy'])\n",
    "\n",
    "  print(model_5.summary())\n",
    "  return model_5\n",
    "model_5 = create_model5()"
   ]
  },
  {
   "cell_type": "code",
   "execution_count": 32,
   "id": "yiclk20lSqWD",
   "metadata": {
    "colab": {
     "base_uri": "https://localhost:8080/",
     "height": 1000
    },
    "id": "yiclk20lSqWD",
    "outputId": "55377bc1-5dc7-43b5-df1f-08d9b8f59305"
   },
   "outputs": [
    {
     "data": {
      "image/png": "[encoded data removed]",
      "text/plain": [
       "<IPython.core.display.Image object>"
      ]
     },
     "execution_count": 32,
     "metadata": {},
     "output_type": "execute_result"
    }
   ],
   "source": [
    "from tensorflow.keras.utils import plot_model\n",
    "plot_model(model_5)"
   ]
  },
  {
   "cell_type": "code",
   "execution_count": 33,
   "id": "6uMAcvfAUi7s",
   "metadata": {
    "colab": {
     "base_uri": "https://localhost:8080/"
    },
    "id": "6uMAcvfAUi7s",
    "outputId": "77eb2ab9-a483-443a-c4ed-ac0d318853a8"
   },
   "outputs": [
    {
     "name": "stdout",
     "output_type": "stream",
     "text": [
      "Epoch 1/5\n",
      "704/704 [==============================] - 16s 18ms/step - loss: 0.5448 - accuracy: 0.7957 - val_loss: 0.3572 - val_accuracy: 0.8659\n",
      "Epoch 2/5\n",
      "704/704 [==============================] - 12s 16ms/step - loss: 0.3820 - accuracy: 0.8613 - val_loss: 0.3260 - val_accuracy: 0.8770\n",
      "Epoch 3/5\n",
      "704/704 [==============================] - 11s 16ms/step - loss: 0.3540 - accuracy: 0.8721 - val_loss: 0.3181 - val_accuracy: 0.8805\n",
      "Epoch 4/5\n",
      "704/704 [==============================] - 12s 17ms/step - loss: 0.3385 - accuracy: 0.8776 - val_loss: 0.3150 - val_accuracy: 0.8795\n",
      "Epoch 5/5\n",
      "704/704 [==============================] - 12s 17ms/step - loss: 0.3261 - accuracy: 0.8821 - val_loss: 0.3080 - val_accuracy: 0.8836\n"
     ]
    },
    {
     "data": {
      "text/plain": [
       "<keras.callbacks.History at 0x7f1f16779b90>"
      ]
     },
     "execution_count": 33,
     "metadata": {},
     "output_type": "execute_result"
    }
   ],
   "source": [
    "model_5.fit([train_data[['line_number', 'total_lines']], train_text_cleaned], \n",
    "            y_train_vec, \n",
    "            epochs=5, \n",
    "            batch_size=256, \n",
    "            validation_data=([dev_data[['line_number', 'total_lines']], devel_text_cleaned], y_devel_vec))"
   ]
  },
  {
   "cell_type": "code",
   "execution_count": 34,
   "id": "_UpIGtPLn9AF",
   "metadata": {
    "colab": {
     "base_uri": "https://localhost:8080/"
    },
    "id": "_UpIGtPLn9AF",
    "outputId": "af747cbf-c87d-47a9-b74a-cadb2a4b7b71"
   },
   "outputs": [
    {
     "name": "stdout",
     "output_type": "stream",
     "text": [
      "Model: \"model_5\"\n",
      "__________________________________________________________________________________________________\n",
      " Layer (type)                   Output Shape         Param #     Connected to                     \n",
      "==================================================================================================\n",
      " token_model_input (InputLayer)  [(None, 1)]         0           []                               \n",
      "                                                                                                  \n",
      " text_vectorization (TextVector  (None, 55)          0           ['token_model_input[0][0]']      \n",
      " ization)                                                                                         \n",
      "                                                                                                  \n",
      " embedding_layer (Embedding)    (None, 55, 200)      11580600    ['text_vectorization[5][0]']     \n",
      "                                                                                                  \n",
      " bidirectional_5 (Bidirectional  (None, 128)         135680      ['embedding_layer[3][0]']        \n",
      " )                                                                                                \n",
      "                                                                                                  \n",
      " dropout_11 (Dropout)           (None, 128)          0           ['bidirectional_5[0][0]']        \n",
      "                                                                                                  \n",
      " token_dense (Dense)            (None, 32)           4128        ['dropout_11[0][0]']             \n",
      "                                                                                                  \n",
      " line_model_input (InputLayer)  [(None, 2)]          0           []                               \n",
      "                                                                                                  \n",
      " dropout_12 (Dropout)           (None, 32)           0           ['token_dense[0][0]']            \n",
      "                                                                                                  \n",
      " line_model_dense (Dense)       (None, 32)           96          ['line_model_input[0][0]']       \n",
      "                                                                                                  \n",
      " concatenate_1 (Concatenate)    (None, 64)           0           ['dropout_12[0][0]',             \n",
      "                                                                  'line_model_dense[0][0]']       \n",
      "                                                                                                  \n",
      " last_dense (Dense)             (None, 32)           2080        ['concatenate_1[0][0]']          \n",
      "                                                                                                  \n",
      " dropout_13 (Dropout)           (None, 32)           0           ['last_dense[0][0]']             \n",
      "                                                                                                  \n",
      " dense_9 (Dense)                (None, 5)            165         ['dropout_13[0][0]']             \n",
      "                                                                                                  \n",
      "==================================================================================================\n",
      "Total params: 11,722,749\n",
      "Trainable params: 142,149\n",
      "Non-trainable params: 11,580,600\n",
      "__________________________________________________________________________________________________\n",
      "None\n",
      "Epoch 1/5\n",
      "822/822 [==============================] - 16s 16ms/step - loss: 0.5948 - accuracy: 0.7848\n",
      "Epoch 2/5\n",
      "822/822 [==============================] - 13s 15ms/step - loss: 0.4498 - accuracy: 0.8537\n",
      "Epoch 3/5\n",
      "822/822 [==============================] - 14s 17ms/step - loss: 0.4260 - accuracy: 0.8644\n",
      "Epoch 4/5\n",
      "822/822 [==============================] - 13s 15ms/step - loss: 0.4113 - accuracy: 0.8697\n",
      "Epoch 5/5\n",
      "822/822 [==============================] - 13s 16ms/step - loss: 0.3990 - accuracy: 0.8746\n",
      "              precision    recall  f1-score   support\n",
      "\n",
      "  BACKGROUND       0.74      0.76      0.75      3621\n",
      " CONCLUSIONS       0.86      0.96      0.90      4571\n",
      "     METHODS       0.92      0.93      0.92      9897\n",
      "   OBJECTIVE       0.64      0.67      0.65      2333\n",
      "     RESULTS       0.95      0.86      0.90      9713\n",
      "\n",
      "    accuracy                           0.87     30135\n",
      "   macro avg       0.82      0.84      0.83     30135\n",
      "weighted avg       0.87      0.87      0.87     30135\n",
      "\n"
     ]
    }
   ],
   "source": [
    "model_5 = create_model5()\n",
    "combined_line_data = pd.concat([train_data[['line_number', 'total_lines']], dev_data[['line_number', 'total_lines']]], axis=0)\n",
    "model_5.fit([combined_line_data, combined_text_data], combined_labels_vec, class_weight=cw_dict, batch_size=256, epochs=5)\n",
    "\n",
    "y_pred_vec = model_5.predict([test_data[['line_number', 'total_lines']], test_text_cleaned])\n",
    "y_pred = np.argmax(y_pred_vec, axis=1)\n",
    "model5_result = evaluate(y_test, y_pred)\n",
    "model_results.append(model5_result)"
   ]
  },
  {
   "cell_type": "code",
   "execution_count": 35,
   "id": "sPLmG3hiom1h",
   "metadata": {
    "id": "sPLmG3hiom1h"
   },
   "outputs": [],
   "source": [
    "models = ['model1', 'model2', 'model3', 'model4', 'model5']\n",
    "model_results = dict(zip(models, model_results))\n"
   ]
  },
  {
   "cell_type": "code",
   "execution_count": 36,
   "id": "XKV--kBPpHga",
   "metadata": {
    "colab": {
     "base_uri": "https://localhost:8080/",
     "height": 206
    },
    "id": "XKV--kBPpHga",
    "outputId": "64775d03-ed61-40cd-bf8c-c60262b9d3c7"
   },
   "outputs": [
    {
     "data": {
      "text/html": [
       "\n",
       "  <div id=\"df-36744594-df1e-4bae-86a4-f8f99299c973\">\n",
       "    <div class=\"colab-df-container\">\n",
       "      <div>\n",
       "<style scoped>\n",
       "    .dataframe tbody tr th:only-of-type {\n",
       "        vertical-align: middle;\n",
       "    }\n",
       "\n",
       "    .dataframe tbody tr th {\n",
       "        vertical-align: top;\n",
       "    }\n",
       "\n",
       "    .dataframe thead th {\n",
       "        text-align: right;\n",
       "    }\n",
       "</style>\n",
       "<table border=\"1\" class=\"dataframe\">\n",
       "  <thead>\n",
       "    <tr style=\"text-align: right;\">\n",
       "      <th></th>\n",
       "      <th>f1-score macro</th>\n",
       "      <th>accuracy</th>\n",
       "    </tr>\n",
       "  </thead>\n",
       "  <tbody>\n",
       "    <tr>\n",
       "      <th>model1</th>\n",
       "      <td>0.722161</td>\n",
       "      <td>0.782346</td>\n",
       "    </tr>\n",
       "    <tr>\n",
       "      <th>model2</th>\n",
       "      <td>0.727397</td>\n",
       "      <td>0.793927</td>\n",
       "    </tr>\n",
       "    <tr>\n",
       "      <th>model3</th>\n",
       "      <td>0.696540</td>\n",
       "      <td>0.764925</td>\n",
       "    </tr>\n",
       "    <tr>\n",
       "      <th>model4</th>\n",
       "      <td>0.734089</td>\n",
       "      <td>0.789580</td>\n",
       "    </tr>\n",
       "    <tr>\n",
       "      <th>model5</th>\n",
       "      <td>0.826030</td>\n",
       "      <td>0.870649</td>\n",
       "    </tr>\n",
       "  </tbody>\n",
       "</table>\n",
       "</div>\n",
       "      <button class=\"colab-df-convert\" onclick=\"convertToInteractive('df-36744594-df1e-4bae-86a4-f8f99299c973')\"\n",
       "              title=\"Convert this dataframe to an interactive table.\"\n",
       "              style=\"display:none;\">\n",
       "        \n",
       "  <svg xmlns=\"http://www.w3.org/2000/svg\" height=\"24px\"viewBox=\"0 0 24 24\"\n",
       "       width=\"24px\">\n",
       "    <path d=\"M0 0h24v24H0V0z\" fill=\"none\"/>\n",
       "    <path d=\"M18.56 5.44l.94 2.06.94-2.06 2.06-.94-2.06-.94-.94-2.06-.94 2.06-2.06.94zm-11 1L8.5 8.5l.94-2.06 2.06-.94-2.06-.94L8.5 2.5l-.94 2.06-2.06.94zm10 10l.94 2.06.94-2.06 2.06-.94-2.06-.94-.94-2.06-.94 2.06-2.06.94z\"/><path d=\"M17.41 7.96l-1.37-1.37c-.4-.4-.92-.59-1.43-.59-.52 0-1.04.2-1.43.59L10.3 9.45l-7.72 7.72c-.78.78-.78 2.05 0 2.83L4 21.41c.39.39.9.59 1.41.59.51 0 1.02-.2 1.41-.59l7.78-7.78 2.81-2.81c.8-.78.8-2.07 0-2.86zM5.41 20L4 18.59l7.72-7.72 1.47 1.35L5.41 20z\"/>\n",
       "  </svg>\n",
       "      </button>\n",
       "      \n",
       "  <style>\n",
       "    .colab-df-container {\n",
       "      display:flex;\n",
       "      flex-wrap:wrap;\n",
       "      gap: 12px;\n",
       "    }\n",
       "\n",
       "    .colab-df-convert {\n",
       "      background-color: #E8F0FE;\n",
       "      border: none;\n",
       "      border-radius: 50%;\n",
       "      cursor: pointer;\n",
       "      display: none;\n",
       "      fill: #1967D2;\n",
       "      height: 32px;\n",
       "      padding: 0 0 0 0;\n",
       "      width: 32px;\n",
       "    }\n",
       "\n",
       "    .colab-df-convert:hover {\n",
       "      background-color: #E2EBFA;\n",
       "      box-shadow: 0px 1px 2px rgba(60, 64, 67, 0.3), 0px 1px 3px 1px rgba(60, 64, 67, 0.15);\n",
       "      fill: #174EA6;\n",
       "    }\n",
       "\n",
       "    [theme=dark] .colab-df-convert {\n",
       "      background-color: #3B4455;\n",
       "      fill: #D2E3FC;\n",
       "    }\n",
       "\n",
       "    [theme=dark] .colab-df-convert:hover {\n",
       "      background-color: #434B5C;\n",
       "      box-shadow: 0px 1px 3px 1px rgba(0, 0, 0, 0.15);\n",
       "      filter: drop-shadow(0px 1px 2px rgba(0, 0, 0, 0.3));\n",
       "      fill: #FFFFFF;\n",
       "    }\n",
       "  </style>\n",
       "\n",
       "      <script>\n",
       "        const buttonEl =\n",
       "          document.querySelector('#df-36744594-df1e-4bae-86a4-f8f99299c973 button.colab-df-convert');\n",
       "        buttonEl.style.display =\n",
       "          google.colab.kernel.accessAllowed ? 'block' : 'none';\n",
       "\n",
       "        async function convertToInteractive(key) {\n",
       "          const element = document.querySelector('#df-36744594-df1e-4bae-86a4-f8f99299c973');\n",
       "          const dataTable =\n",
       "            await google.colab.kernel.invokeFunction('convertToInteractive',\n",
       "                                                     [key], {});\n",
       "          if (!dataTable) return;\n",
       "\n",
       "          const docLinkHtml = 'Like what you see? Visit the ' +\n",
       "            '<a target=\"_blank\" href=https://colab.research.google.com/notebooks/data_table.ipynb>data table notebook</a>'\n",
       "            + ' to learn more about interactive tables.';\n",
       "          element.innerHTML = '';\n",
       "          dataTable['output_type'] = 'display_data';\n",
       "          await google.colab.output.renderOutput(dataTable, element);\n",
       "          const docLink = document.createElement('div');\n",
       "          docLink.innerHTML = docLinkHtml;\n",
       "          element.appendChild(docLink);\n",
       "        }\n",
       "      </script>\n",
       "    </div>\n",
       "  </div>\n",
       "  "
      ],
      "text/plain": [
       "        f1-score macro  accuracy\n",
       "model1        0.722161  0.782346\n",
       "model2        0.727397  0.793927\n",
       "model3        0.696540  0.764925\n",
       "model4        0.734089  0.789580\n",
       "model5        0.826030  0.870649"
      ]
     },
     "execution_count": 36,
     "metadata": {},
     "output_type": "execute_result"
    }
   ],
   "source": [
    "results = pd.DataFrame(model_results).transpose()\n",
    "results"
   ]
  },
  {
   "cell_type": "code",
   "execution_count": 37,
   "id": "Epc4j33_bjbz",
   "metadata": {
    "colab": {
     "base_uri": "https://localhost:8080/",
     "height": 309
    },
    "id": "Epc4j33_bjbz",
    "outputId": "d4bba5e5-1aa2-46ef-d115-ba7eaf4b2634"
   },
   "outputs": [
    {
     "data": {
      "image/png": "[encoded data removed]",
      "text/plain": [
       "<Figure size 432x288 with 1 Axes>"
      ]
     },
     "metadata": {
      "needs_background": "light"
     },
     "output_type": "display_data"
    }
   ],
   "source": [
    "results.plot(kind='bar', title='Performance summary').legend(bbox_to_anchor=(1.0, 1.0));"
   ]
  },
  {
   "cell_type": "code",
   "execution_count": 38,
   "id": "EGdMOM25bye_",
   "metadata": {
    "colab": {
     "base_uri": "https://localhost:8080/"
    },
    "id": "EGdMOM25bye_",
    "outputId": "6bd015db-6487-4e6e-da34-908268eff473"
   },
   "outputs": [
    {
     "data": {
      "text/plain": [
       "30135"
      ]
     },
     "execution_count": 38,
     "metadata": {},
     "output_type": "execute_result"
    }
   ],
   "source": [
    "len(y_test)"
   ]
  },
  {
   "cell_type": "code",
   "execution_count": 38,
   "id": "X5aU2cMfc4ai",
   "metadata": {
    "id": "X5aU2cMfc4ai"
   },
   "outputs": [],
   "source": []
  }
 ],
 "metadata": {
  "accelerator": "GPU",
  "colab": {
   "collapsed_sections": [],
   "name": "pubmed_nlp.ipynb",
   "provenance": []
  },
  "gpuClass": "standard",
  "kernelspec": {
   "display_name": "nlp_proj",
   "language": "python",
   "name": "nlp_proj"
  },
  "language_info": {
   "codemirror_mode": {
    "name": "ipython",
    "version": 3
   },
   "file_extension": ".py",
   "mimetype": "text/x-python",
   "name": "python",
   "nbconvert_exporter": "python",
   "pygments_lexer": "ipython3",
   "version": "3.8.10"
  }
 },
 "nbformat": 4,
 "nbformat_minor": 5
}
