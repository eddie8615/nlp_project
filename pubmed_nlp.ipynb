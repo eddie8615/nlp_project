{
 "cells": [
  {
   "cell_type": "markdown",
   "id": "173dabd1",
   "metadata": {},
   "source": [
    "## NLP project\n",
    "\n",
    "Read all data"
   ]
  },
  {
   "cell_type": "code",
   "execution_count": 1,
   "id": "d24ffb5e",
   "metadata": {},
   "outputs": [],
   "source": [
    "import pandas as pd\n",
    "import numpy as np\n",
    "import matplotlib.pyplot as plt\n",
    "import re"
   ]
  },
  {
   "cell_type": "code",
   "execution_count": 2,
   "id": "351d2aeb",
   "metadata": {},
   "outputs": [],
   "source": [
    "train_data = pd.read_csv('train.txt', sep='\\t', header=None, names=['pmid', 'label', 'txt'])\n",
    "dev_data = pd.read_csv('dev.txt', sep='\\t', header=None, names=['pmid', 'label', 'txt'])\n",
    "test_data = pd.read_csv('test.txt', sep='\\t', header=None, names=['pmid', 'label', 'txt'])"
   ]
  },
  {
   "cell_type": "code",
   "execution_count": 3,
   "id": "c02f59a9",
   "metadata": {},
   "outputs": [
    {
     "data": {
      "text/plain": [
       "<BarContainer object of 5 artists>"
      ]
     },
     "execution_count": 3,
     "metadata": {},
     "output_type": "execute_result"
    },
    {
     "data": {
      "image/png": "[encoded data removed]",
      "text/plain": [
       "<Figure size 432x288 with 1 Axes>"
      ]
     },
     "metadata": {
      "needs_background": "light"
     },
     "output_type": "display_data"
    }
   ],
   "source": [
    "labels = train_data['label'].unique()\n",
    "\n",
    "plt.bar(labels, train_data['label'].value_counts())"
   ]
  },
  {
   "cell_type": "code",
   "execution_count": 4,
   "id": "027b2e38",
   "metadata": {},
   "outputs": [
    {
     "name": "stderr",
     "output_type": "stream",
     "text": [
      "/home/changhyun/.local/lib/python3.8/site-packages/tqdm/auto.py:22: TqdmWarning: IProgress not found. Please update jupyter and ipywidgets. See https://ipywidgets.readthedocs.io/en/stable/user_install.html\n",
      "  from .autonotebook import tqdm as notebook_tqdm\n"
     ]
    },
    {
     "name": "stdout",
     "output_type": "stream",
     "text": [
      "showing info https://raw.githubusercontent.com/nltk/nltk_data/gh-pages/index.xml\n"
     ]
    },
    {
     "name": "stderr",
     "output_type": "stream",
     "text": [
      "2022-06-28 21:53:39.381741: W tensorflow/stream_executor/platform/default/dso_loader.cc:64] Could not load dynamic library 'libcudart.so.11.0'; dlerror: libcudart.so.11.0: cannot open shared object file: No such file or directory; LD_LIBRARY_PATH: /home/changhyun/catkin_ws/devel/lib\n",
      "2022-06-28 21:53:39.381767: I tensorflow/stream_executor/cuda/cudart_stub.cc:29] Ignore above cudart dlerror if you do not have a GPU set up on your machine.\n",
      "[nltk_data] Downloading package stopwords to\n",
      "[nltk_data]     /home/changhyun/nltk_data...\n",
      "[nltk_data]   Package stopwords is already up-to-date!\n",
      "[nltk_data] Downloading package wordnet to\n",
      "[nltk_data]     /home/changhyun/nltk_data...\n",
      "[nltk_data]   Package wordnet is already up-to-date!\n",
      "[nltk_data] Downloading package punkt to /home/changhyun/nltk_data...\n",
      "[nltk_data]   Package punkt is already up-to-date!\n",
      "[nltk_data] Downloading package averaged_perceptron_tagger to\n",
      "[nltk_data]     /home/changhyun/nltk_data...\n",
      "[nltk_data]   Package averaged_perceptron_tagger is already up-to-\n",
      "[nltk_data]       date!\n"
     ]
    }
   ],
   "source": [
    "import spacy\n",
    "import nltk\n",
    "# import ssl\n",
    "# try:\n",
    "#     _create_unverified_https_context = ssl._create_unverified_context\n",
    "# except AttributeError:\n",
    "#     pass\n",
    "# else:\n",
    "#     ssl._create_default_https_context = _create_unverified_https_context\n",
    "nltk.download()\n",
    "nltk.download('stopwords')\n",
    "from nltk.corpus import stopwords\n",
    "from nltk.tokenize import WordPunctTokenizer, word_tokenize\n",
    "from nltk.stem import WordNetLemmatizer\n",
    "nltk.download('wordnet')\n",
    "nltk.download('punkt')\n",
    "nltk.download('averaged_perceptron_tagger')\n",
    "\n",
    "nlp = spacy.load('en_core_web_sm')"
   ]
  },
  {
   "cell_type": "code",
   "execution_count": 5,
   "id": "e038a07f",
   "metadata": {},
   "outputs": [],
   "source": [
    "# Cleaning process such that replacing punctuation to space, deleting them, or making them lowercase\n",
    "\n",
    "def clean_text(text):\n",
    "    \n",
    "    REPLACE_BY_SPACE_RE = re.compile('[/(){}\\[\\]\\|@,;]')\n",
    "    BAD_SYMBOLS_RE = re.compile('[^0-9a-z #+_]')\n",
    "    STOPWORDS = set(stopwords.words('english'))\n",
    "    \n",
    "    text = text.lower() # lowercase text\n",
    "    text = REPLACE_BY_SPACE_RE.sub(' ', text) # replace REPLACE_BY_SPACE_RE symbols by space in text\n",
    "    text = BAD_SYMBOLS_RE.sub('', text) # delete symbols which are in BAD_SYMBOLS_RE from text\n",
    "    text = ' '.join(word for word in text.split() if word not in STOPWORDS) # delete stopwors from text\n",
    "    return text\n"
   ]
  },
  {
   "cell_type": "markdown",
   "id": "f1ad384a",
   "metadata": {},
   "source": [
    "### First model: Random Forest \n"
   ]
  },
  {
   "cell_type": "code",
   "execution_count": 6,
   "id": "1c5f466c",
   "metadata": {},
   "outputs": [],
   "source": [
    "from sklearn.feature_extraction.text import TfidfTransformer, CountVectorizer, TfidfVectorizer\n",
    "from sklearn.model_selection import StratifiedKFold\n",
    "from sklearn.ensemble import RandomForestClassifier\n",
    "from sklearn.metrics import classification_report"
   ]
  },
  {
   "cell_type": "code",
   "execution_count": 15,
   "id": "66041730",
   "metadata": {},
   "outputs": [
    {
     "name": "stderr",
     "output_type": "stream",
     "text": [
      "/home/changhyun/.local/lib/python3.8/site-packages/sklearn/feature_extraction/text.py:516: UserWarning: The parameter 'token_pattern' will not be used since 'tokenizer' is not None'\n",
      "  warnings.warn(\n",
      "/home/changhyun/.local/lib/python3.8/site-packages/sklearn/feature_extraction/text.py:396: UserWarning: Your stop_words may be inconsistent with your preprocessing. Tokenizing the stop words generated tokens [\"'d\", \"'ll\", \"'re\", \"'s\", \"'ve\", 'could', 'might', 'must', \"n't\", 'need', 'sha', 'wo', 'would'] not in stop_words.\n",
      "  warnings.warn(\n"
     ]
    }
   ],
   "source": [
    "stopWords = set(stopwords.words('english'))\n",
    "\n",
    "bow_vec = CountVectorizer(ngram_range=(1,1), stop_words=stopWords, tokenizer=word_tokenize, max_features=1000)\n",
    "bow_vec.fit(raw_documents=train_data['txt'].tolist())\n",
    "X_train = bow_vec.transform(train_data['txt'])\n",
    "X_devel = bow_vec.transform(dev_data['txt'])\n",
    "X_test = bow_vec.transform(test_data['txt'])\n",
    "\n",
    "y_train = train_data['label']\n",
    "y_devel = dev_data['label']\n",
    "y_test = test_data['label']"
   ]
  },
  {
   "cell_type": "code",
   "execution_count": 16,
   "id": "8576a167",
   "metadata": {},
   "outputs": [
    {
     "data": {
      "text/plain": [
       "RandomForestClassifier(n_jobs=-1, random_state=42)"
      ]
     },
     "execution_count": 16,
     "metadata": {},
     "output_type": "execute_result"
    }
   ],
   "source": [
    "skf = StratifiedKFold(n_splits=2, shuffle=True, random_state=random_seed)\n",
    "for first_index, second_index in skf.split(X_train, y_train):\n",
    "    X_train_f, X_train_s = X_train[first_index], X_train[second_index]\n",
    "    y_train_f, y_train_s = y_train[first_index], y_train[second_index]\n",
    "\n",
    "rf = RandomForestClassifier(n_estimators=100, random_state=random_seed, n_jobs=-1)\n",
    "rf.fit(X_train_f, y_train_f)"
   ]
  },
  {
   "cell_type": "code",
   "execution_count": 17,
   "id": "79afb415",
   "metadata": {},
   "outputs": [
    {
     "name": "stdout",
     "output_type": "stream",
     "text": [
      "              precision    recall  f1-score   support\n",
      "\n",
      "  BACKGROUND       0.55      0.48      0.51      3449\n",
      " CONCLUSIONS       0.65      0.58      0.61      4582\n",
      "     METHODS       0.76      0.87      0.81      9964\n",
      "   OBJECTIVE       0.62      0.45      0.52      2376\n",
      "     RESULTS       0.81      0.82      0.82      9841\n",
      "\n",
      "    accuracy                           0.73     30212\n",
      "   macro avg       0.68      0.64      0.65     30212\n",
      "weighted avg       0.72      0.73      0.73     30212\n",
      "\n"
     ]
    }
   ],
   "source": [
    "y_pred = rf.predict(X_devel)\n",
    "print(classification_report(y_devel, y_pred))"
   ]
  },
  {
   "cell_type": "code",
   "execution_count": 23,
   "id": "f146a720",
   "metadata": {},
   "outputs": [],
   "source": [
    "train_text_cleaned = train_data['txt'].apply(clean_text)\n",
    "devel_text_cleaned = dev_data['txt'].apply(clean_text)\n",
    "test_text_cleaned = test_data['txt'].apply(clean_text)"
   ]
  },
  {
   "cell_type": "code",
   "execution_count": 27,
   "id": "8d9c0ac9",
   "metadata": {},
   "outputs": [],
   "source": [
    "tfidf_vec = TfidfVectorizer(ngram_range=(1,1), tokenizer=word_tokenize, stop_words=stopWords, max_features=1000)\n",
    "tfidf_vec.fit(train_text_cleaned.tolist())\n",
    "\n",
    "# X_train = tfidf_vec.transform(train_data['txt'])\n",
    "# X_devel = tfidf_vec.transform(dev_data['txt'])\n",
    "# X_test = tfidf_vec.transform(test_data['txt'])\n",
    "\n",
    "X_train = tfidf_vec.transform(train_text_cleaned)\n",
    "X_devel = tfidf_vec.transform(devel_text_cleaned)\n",
    "X_test = tfidf_vec.transform(test_text_cleaned)"
   ]
  },
  {
   "cell_type": "code",
   "execution_count": 30,
   "id": "bb035885",
   "metadata": {},
   "outputs": [
    {
     "data": {
      "text/plain": [
       "RandomForestClassifier(n_jobs=-1, random_state=42)"
      ]
     },
     "execution_count": 30,
     "metadata": {},
     "output_type": "execute_result"
    }
   ],
   "source": [
    "skf = StratifiedKFold(n_splits=3, shuffle=True, random_state=random_seed)\n",
    "for first_index, second_index in skf.split(X_train, y_train):\n",
    "    X_train_f, X_train_s = X_train[first_index], X_train[second_index]\n",
    "    y_train_f, y_train_s = y_train[first_index], y_train[second_index]\n",
    "\n",
    "rf2 = RandomForestClassifier(n_estimators=100, random_state=random_seed, n_jobs=-1)\n",
    "rf2.fit(X_train_f, y_train_f)"
   ]
  },
  {
   "cell_type": "code",
   "execution_count": 31,
   "id": "cdd0ea01",
   "metadata": {},
   "outputs": [
    {
     "name": "stdout",
     "output_type": "stream",
     "text": [
      "              precision    recall  f1-score   support\n",
      "\n",
      "  BACKGROUND       0.55      0.48      0.51      3449\n",
      " CONCLUSIONS       0.61      0.57      0.59      4582\n",
      "     METHODS       0.75      0.88      0.81      9964\n",
      "   OBJECTIVE       0.64      0.46      0.53      2376\n",
      "     RESULTS       0.81      0.80      0.81      9841\n",
      "\n",
      "    accuracy                           0.73     30212\n",
      "   macro avg       0.67      0.64      0.65     30212\n",
      "weighted avg       0.72      0.73      0.72     30212\n",
      "\n"
     ]
    }
   ],
   "source": [
    "y_pred = rf2.predict(X_devel)\n",
    "print(classification_report(y_devel, y_pred))"
   ]
  },
  {
   "cell_type": "code",
   "execution_count": 10,
   "id": "0bd0cfc6",
   "metadata": {},
   "outputs": [
    {
     "data": {
      "text/plain": [
       "<torch._C.Generator at 0x7fc347adbb90>"
      ]
     },
     "execution_count": 10,
     "metadata": {},
     "output_type": "execute_result"
    }
   ],
   "source": [
    "import torch\n",
    "import torch.nn as nn\n",
    "import torch.nn.functional as F\n",
    "import torch.optim as optim\n",
    "from torch.nn.utils.rnn import pack_padded_sequence, pad_packed_sequence\n",
    "\n",
    "# from torchtext.data import Field, TabularDataset, BucketIterator\n",
    "\n",
    "\n",
    "random_seed = 42\n",
    "torch.manual_seed(random_seed)"
   ]
  },
  {
   "cell_type": "code",
   "execution_count": null,
   "id": "9986a6f8",
   "metadata": {},
   "outputs": [],
   "source": [
    "class LSTM(nn.Module):\n",
    "    def __init__(self, dim):\n",
    "        super(LSTM, self).__init__()\n",
    "        self.embedding = nn.Embedding()\n",
    "        \n",
    "        self.lstm = nn.LSTM(input_size=input_size, \n",
    "                            hidden_size=hidden_size,\n",
    "                            n_layers=n_layers)\n",
    "        \n",
    "        self.fc = nn.Linear(2*dim, 1)\n",
    "        \n",
    "    def forward(self, text, text_len):\n",
    "        "
   ]
  }
 ],
 "metadata": {
  "kernelspec": {
   "display_name": "nlp_project",
   "language": "python",
   "name": "nlp_project"
  },
  "language_info": {
   "codemirror_mode": {
    "name": "ipython",
    "version": 3
   },
   "file_extension": ".py",
   "mimetype": "text/x-python",
   "name": "python",
   "nbconvert_exporter": "python",
   "pygments_lexer": "ipython3",
   "version": "3.8.10"
  }
 },
 "nbformat": 4,
 "nbformat_minor": 5
}
