{
 "cells": [
  {
   "cell_type": "markdown",
   "id": "173dabd1",
   "metadata": {
    "id": "173dabd1"
   },
   "source": [
    "## NLP project\n",
    "\n",
    "Read all data"
   ]
  },
  {
   "cell_type": "code",
   "execution_count": 184,
   "id": "oXhnBi_na7XD",
   "metadata": {
    "colab": {
     "base_uri": "https://localhost:8080/"
    },
    "id": "oXhnBi_na7XD",
    "outputId": "b292ff7b-c30e-49ea-9e52-db9c1e68c6f1"
   },
   "outputs": [],
   "source": [
    "# from google.colab import drive\n",
    "# drive.mount('/content/drive/')\n",
    "# %cd /content/drive/My Drive/Colab Notebooks/"
   ]
  },
  {
   "cell_type": "code",
   "execution_count": 2,
   "id": "d24ffb5e",
   "metadata": {
    "id": "d24ffb5e"
   },
   "outputs": [],
   "source": [
    "import pandas as pd\n",
    "import numpy as np\n",
    "import matplotlib.pyplot as plt\n",
    "import re"
   ]
  },
  {
   "cell_type": "code",
   "execution_count": 3,
   "id": "351d2aeb",
   "metadata": {
    "id": "351d2aeb"
   },
   "outputs": [],
   "source": [
    "train_data = pd.read_csv('train.txt', sep='\\t', header=None, names=['pmid', 'label', 'txt'])\n",
    "dev_data = pd.read_csv('dev.txt', sep='\\t', header=None, names=['pmid', 'label', 'txt'])\n",
    "test_data = pd.read_csv('test.txt', sep='\\t', header=None, names=['pmid', 'label', 'txt'])"
   ]
  },
  {
   "cell_type": "code",
   "execution_count": 4,
   "id": "c02f59a9",
   "metadata": {
    "colab": {
     "base_uri": "https://localhost:8080/",
     "height": 344
    },
    "id": "c02f59a9",
    "outputId": "7977d4f3-393a-448b-cc05-6fed58419da5"
   },
   "outputs": [
    {
     "data": {
      "text/plain": [
       "<matplotlib.axes._subplots.AxesSubplot at 0x7f2447c61f90>"
      ]
     },
     "execution_count": 4,
     "metadata": {},
     "output_type": "execute_result"
    },
    {
     "data": {
      "image/png": "[encoded data removed]",
      "text/plain": [
       "<Figure size 432x288 with 1 Axes>"
      ]
     },
     "metadata": {
      "needs_background": "light"
     },
     "output_type": "display_data"
    }
   ],
   "source": [
    "train_data['label'].value_counts().plot(kind='bar')"
   ]
  },
  {
   "cell_type": "code",
   "execution_count": 5,
   "id": "027b2e38",
   "metadata": {
    "colab": {
     "base_uri": "https://localhost:8080/"
    },
    "id": "027b2e38",
    "outputId": "3f884ffa-0c5a-4234-a135-b1ce6109de5c"
   },
   "outputs": [
    {
     "name": "stdout",
     "output_type": "stream",
     "text": [
      "NLTK Downloader\n",
      "---------------------------------------------------------------------------\n",
      "    d) Download   l) List    u) Update   c) Config   h) Help   q) Quit\n",
      "---------------------------------------------------------------------------\n",
      "Downloader> q\n"
     ]
    },
    {
     "name": "stderr",
     "output_type": "stream",
     "text": [
      "[nltk_data] Downloading package stopwords to /root/nltk_data...\n",
      "[nltk_data]   Unzipping corpora/stopwords.zip.\n",
      "[nltk_data] Downloading package wordnet to /root/nltk_data...\n",
      "[nltk_data]   Unzipping corpora/wordnet.zip.\n",
      "[nltk_data] Downloading package punkt to /root/nltk_data...\n",
      "[nltk_data]   Unzipping tokenizers/punkt.zip.\n",
      "[nltk_data] Downloading package averaged_perceptron_tagger to\n",
      "[nltk_data]     /root/nltk_data...\n",
      "[nltk_data]   Unzipping taggers/averaged_perceptron_tagger.zip.\n"
     ]
    }
   ],
   "source": [
    "import spacy\n",
    "import nltk\n",
    "import ssl\n",
    "try:\n",
    "    _create_unverified_https_context = ssl._create_unverified_context\n",
    "except AttributeError:\n",
    "    pass\n",
    "else:\n",
    "    ssl._create_default_https_context = _create_unverified_https_context\n",
    "nltk.download()\n",
    "nltk.download('stopwords')\n",
    "from nltk.corpus import stopwords\n",
    "from nltk.tokenize import WordPunctTokenizer, word_tokenize\n",
    "from nltk.stem import WordNetLemmatizer\n",
    "nltk.download('wordnet')\n",
    "nltk.download('punkt')\n",
    "nltk.download('averaged_perceptron_tagger')\n",
    "\n",
    "nlp = spacy.load('en_core_web_sm')"
   ]
  },
  {
   "cell_type": "code",
   "execution_count": 6,
   "id": "e038a07f",
   "metadata": {
    "id": "e038a07f"
   },
   "outputs": [],
   "source": [
    "# Cleaning process such that replacing punctuation to space, deleting them, or making them lowercase\n",
    "\n",
    "def clean_text(text):\n",
    "    \n",
    "    punctuation = [i for i in ',./\\\\;:\\'@#~[{]}=+-_)(*&^%$£\"!`)]']\n",
    "    STOPWORDS = set(stopwords.words('english'))\n",
    "    \n",
    "    text = text.replace(\"'s\", \"\")\n",
    "    text = \"\".join([\" \" if t in punctuation else t for t in text]).lower()\n",
    "    text = ' '.join(word for word in text.split() if word not in STOPWORDS) # delete stopwords from text\n",
    "    return text\n",
    "\n",
    "def split_training_set(X_train, y_train):\n",
    "    skf = StratifiedKFold(n_splits=3, shuffle=True, random_state=random_seed)\n",
    "    for first_index, second_index in skf.split(X_train, y_train):\n",
    "        X_train_f, X_train_s = X_train[first_index], X_train[second_index]\n",
    "        y_train_f, y_train_s = y_train[first_index], y_train[second_index]\n",
    "        \n",
    "    return X_train_f, y_train_f, X_train_s, y_train_s\n",
    "\n",
    "def evaluate(y_true, y_pred):\n",
    "    y_true = le.inverse_transform(y_true)\n",
    "    y_pred = le.inverse_transform(y_pred)\n",
    "    print(classification_report(y_true, y_pred))"
   ]
  },
  {
   "cell_type": "markdown",
   "id": "f1ad384a",
   "metadata": {
    "id": "f1ad384a"
   },
   "source": [
    "### Which vectorizer is the best? Tf-idf vs Bag of words\n",
    "This section aims to find out the best vectorizer that makes the first two machine learning models having better performance with respect to F1-score\n"
   ]
  },
  {
   "cell_type": "code",
   "execution_count": 7,
   "id": "1c5f466c",
   "metadata": {
    "id": "1c5f466c"
   },
   "outputs": [],
   "source": [
    "from sklearn.feature_extraction.text import TfidfTransformer, CountVectorizer, TfidfVectorizer\n",
    "from sklearn.model_selection import StratifiedKFold\n",
    "from sklearn.metrics import classification_report\n",
    "from sklearn.linear_model import SGDClassifier, LogisticRegression\n",
    "from sklearn.pipeline import Pipeline\n",
    "from sklearn.preprocessing import LabelEncoder\n",
    "from sklearn.naive_bayes import MultinomialNB\n",
    "from sklearn.svm import LinearSVC\n",
    "from sklearn.utils.class_weight import compute_class_weight"
   ]
  },
  {
   "cell_type": "code",
   "execution_count": 8,
   "id": "d5a65fe6",
   "metadata": {
    "colab": {
     "base_uri": "https://localhost:8080/"
    },
    "id": "d5a65fe6",
    "outputId": "cf3a54da-6764-4258-ef36-590b9e7a4277"
   },
   "outputs": [
    {
     "name": "stdout",
     "output_type": "stream",
     "text": [
      "CPU times: user 48.1 s, sys: 2.64 s, total: 50.7 s\n",
      "Wall time: 54.7 s\n"
     ]
    }
   ],
   "source": [
    "%%time\n",
    "\n",
    "train_text_cleaned = train_data['txt'].apply(clean_text)\n",
    "devel_text_cleaned = dev_data['txt'].apply(clean_text)\n",
    "test_text_cleaned = test_data['txt'].apply(clean_text)\n"
   ]
  },
  {
   "cell_type": "code",
   "execution_count": 9,
   "id": "a664fd4d",
   "metadata": {
    "colab": {
     "base_uri": "https://localhost:8080/"
    },
    "id": "a664fd4d",
    "outputId": "f6883a48-786e-4a6f-caae-466ba2fa244c"
   },
   "outputs": [
    {
     "data": {
      "text/plain": [
       "{0: 1.657292769365306,\n",
       " 1: 1.3253828032979977,\n",
       " 2: 0.6066753154853166,\n",
       " 3: 2.6019221041982803,\n",
       " 4: 0.6213310786326851}"
      ]
     },
     "execution_count": 9,
     "metadata": {},
     "output_type": "execute_result"
    }
   ],
   "source": [
    "le = LabelEncoder()\n",
    "y_train = le.fit_transform(train_data['label'])\n",
    "y_devel = le.transform(dev_data['label'])\n",
    "y_test = le.transform(test_data['label'])\n",
    "\n",
    "cw = compute_class_weight(class_weight='balanced', classes=np.unique(y_train), y=y_train)\n",
    "cw_dict = dict(zip(np.unique(y_train), cw))\n",
    "cw_dict"
   ]
  },
  {
   "cell_type": "code",
   "execution_count": null,
   "id": "2d79def5",
   "metadata": {
    "colab": {
     "base_uri": "https://localhost:8080/"
    },
    "id": "2d79def5",
    "outputId": "f15f1486-69ab-40db-e98e-dc63fb24e9e5"
   },
   "outputs": [
    {
     "name": "stdout",
     "output_type": "stream",
     "text": [
      "-------Bag of word result----------\n",
      "              precision    recall  f1-score   support\n",
      "\n",
      "  BACKGROUND       0.52      0.58      0.55      3449\n",
      " CONCLUSIONS       0.65      0.68      0.67      4582\n",
      "     METHODS       0.86      0.85      0.85      9964\n",
      "   OBJECTIVE       0.50      0.55      0.53      2376\n",
      "     RESULTS       0.88      0.82      0.84      9841\n",
      "\n",
      "    accuracy                           0.76     30212\n",
      "   macro avg       0.68      0.69      0.69     30212\n",
      "weighted avg       0.77      0.76      0.76     30212\n",
      "\n",
      "-------TFIDF result----------\n",
      "              precision    recall  f1-score   support\n",
      "\n",
      "  BACKGROUND       0.55      0.60      0.57      3449\n",
      " CONCLUSIONS       0.65      0.71      0.68      4582\n",
      "     METHODS       0.87      0.85      0.86      9964\n",
      "   OBJECTIVE       0.51      0.61      0.56      2376\n",
      "     RESULTS       0.89      0.80      0.85      9841\n",
      "\n",
      "    accuracy                           0.77     30212\n",
      "   macro avg       0.70      0.72      0.70     30212\n",
      "weighted avg       0.78      0.77      0.77     30212\n",
      "\n"
     ]
    }
   ],
   "source": [
    "bow_vec = CountVectorizer(tokenizer=word_tokenize)\n",
    "tfidf = TfidfVectorizer(tokenizer=word_tokenize)\n",
    "\n",
    "random_seed = 42\n",
    "\n",
    "bow_pipeline = Pipeline([\n",
    "    ('bow', bow_vec),\n",
    "    ('LR', LogisticRegression(class_weight=cw_dict, random_state=random_seed, n_jobs=-1))\n",
    "])\n",
    "\n",
    "tfidf_pipeline = Pipeline([\n",
    "    ('tfidf', tfidf),\n",
    "    ('LR', LogisticRegression(class_weight=cw_dict, random_state=random_seed, n_jobs=-1))\n",
    "])\n",
    "\n",
    "print('-------Bag of word result----------')\n",
    "bow_pipeline.fit(train_text_cleaned, y_train)\n",
    "y_pred = bow_pipeline.predict(devel_text_cleaned)\n",
    "evaluate(y_devel, y_pred)\n",
    "\n",
    "print('-------TFIDF result----------')\n",
    "tfidf_pipeline.fit(train_text_cleaned, y_train)\n",
    "y_pred = tfidf_pipeline.predict(devel_text_cleaned)\n",
    "evaluate(y_devel, y_pred)"
   ]
  },
  {
   "cell_type": "markdown",
   "id": "ca90530c",
   "metadata": {
    "id": "ca90530c"
   },
   "source": [
    "From the experiment, we noticed that TFIDF vectorizer is bit more effective to improve LR's performance.\n",
    "\n",
    "Next, we need to discover the sufficient ngram range for TF-IDF vectorizer to have the best performance. This stage also considers the computational time for each ngram size simultaneously. \n",
    "\n",
    "*Result*\n",
    "bigram and trigram show better performance than unigram. However, for trigram, it takes about 5minutes compared to 11 sec for unigram\n",
    "\n",
    "ngram_range=(1,2) is reasonable to get feasible running time and better performance"
   ]
  },
  {
   "cell_type": "code",
   "execution_count": null,
   "id": "66041730",
   "metadata": {
    "colab": {
     "base_uri": "https://localhost:8080/"
    },
    "id": "66041730",
    "outputId": "905ac8a6-c726-43f6-c534-c0e32637a842"
   },
   "outputs": [
    {
     "name": "stdout",
     "output_type": "stream",
     "text": [
      "Time elapsed: 21.688993215560913\n",
      "              precision    recall  f1-score   support\n",
      "\n",
      "  BACKGROUND       0.55      0.58      0.57      3449\n",
      " CONCLUSIONS       0.66      0.71      0.68      4582\n",
      "     METHODS       0.87      0.85      0.86      9964\n",
      "   OBJECTIVE       0.51      0.61      0.56      2376\n",
      "     RESULTS       0.89      0.81      0.85      9841\n",
      "\n",
      "    accuracy                           0.77     30212\n",
      "   macro avg       0.69      0.71      0.70     30212\n",
      "weighted avg       0.78      0.77      0.77     30212\n",
      "\n",
      "Time elapsed: 137.30048251152039\n",
      "              precision    recall  f1-score   support\n",
      "\n",
      "  BACKGROUND       0.60      0.60      0.60      3449\n",
      " CONCLUSIONS       0.67      0.75      0.71      4582\n",
      "     METHODS       0.87      0.87      0.87      9964\n",
      "   OBJECTIVE       0.56      0.60      0.58      2376\n",
      "     RESULTS       0.89      0.82      0.85      9841\n",
      "\n",
      "    accuracy                           0.78     30212\n",
      "   macro avg       0.72      0.73      0.72     30212\n",
      "weighted avg       0.79      0.78      0.79     30212\n",
      "\n",
      "Time elapsed: 320.9190831184387\n",
      "              precision    recall  f1-score   support\n",
      "\n",
      "  BACKGROUND       0.62      0.57      0.59      3449\n",
      " CONCLUSIONS       0.66      0.75      0.70      4582\n",
      "     METHODS       0.86      0.87      0.86      9964\n",
      "   OBJECTIVE       0.55      0.65      0.60      2376\n",
      "     RESULTS       0.89      0.81      0.85      9841\n",
      "\n",
      "    accuracy                           0.78     30212\n",
      "   macro avg       0.72      0.73      0.72     30212\n",
      "weighted avg       0.79      0.78      0.78     30212\n",
      "\n"
     ]
    }
   ],
   "source": [
    "import time\n",
    "\n",
    "ngram_candidates = [(1,1), (1,2), (1,3)]\n",
    "\n",
    "for ngram in ngram_candidates:\n",
    "    pipeline = Pipeline([\n",
    "        ('tfidf', TfidfVectorizer(ngram_range=ngram)),\n",
    "        ('LR', LogisticRegression(class_weight=cw_dict, random_state=random_seed, n_jobs=-1))\n",
    "    ])\n",
    "    tick = time.time()\n",
    "    pipeline.fit(train_text_cleaned, y_train)\n",
    "    tock = time.time()\n",
    "    print('Time elapsed:', tock-tick)\n",
    "    y_pred = pipeline.predict(devel_text_cleaned)\n",
    "    evaluate(y_devel, y_pred)"
   ]
  },
  {
   "cell_type": "markdown",
   "id": "d59ffca6",
   "metadata": {},
   "source": [
    "### Model1: Logistic Regression with Tf-idf vectorizer \n",
    "\n",
    "The first model which is the baseline model is to use logistic regression. The only given hyperparameter is balancing class weights for handling imbalanced data."
   ]
  },
  {
   "cell_type": "code",
   "execution_count": null,
   "id": "bc4cb13c",
   "metadata": {
    "colab": {
     "base_uri": "https://localhost:8080/"
    },
    "id": "bc4cb13c",
    "outputId": "9278f2ee-fbd8-4071-e2dc-db4bb5697b27"
   },
   "outputs": [
    {
     "data": {
      "text/plain": [
       "Pipeline(steps=[('tfidf',\n",
       "                 TfidfVectorizer(ngram_range=(1, 2),\n",
       "                                 tokenizer=<function word_tokenize at 0x7f1d65a39b00>)),\n",
       "                ('LR',\n",
       "                 LogisticRegression(class_weight={0: 1.657292769365306,\n",
       "                                                  1: 1.3253828032979977,\n",
       "                                                  2: 0.6066753154853166,\n",
       "                                                  3: 2.6019221041982803,\n",
       "                                                  4: 0.6213310786326851},\n",
       "                                    n_jobs=-1, random_state=42))])"
      ]
     },
     "execution_count": 13,
     "metadata": {},
     "output_type": "execute_result"
    }
   ],
   "source": [
    "ngram = (1,2)\n",
    "\n",
    "model_1 = Pipeline([\n",
    "    ('tfidf', TfidfVectorizer(tokenizer=word_tokenize, ngram_range=ngram)),\n",
    "    ('LR', LogisticRegression(class_weight=cw_dict, random_state=random_seed, n_jobs=-1))\n",
    "])\n",
    "model_1.fit(train_text_cleaned, y_train)"
   ]
  },
  {
   "cell_type": "code",
   "execution_count": null,
   "id": "8576a167",
   "metadata": {
    "colab": {
     "base_uri": "https://localhost:8080/"
    },
    "id": "8576a167",
    "outputId": "f7ff39ee-fd54-424e-9863-0bc489e2143a"
   },
   "outputs": [
    {
     "name": "stdout",
     "output_type": "stream",
     "text": [
      "              precision    recall  f1-score   support\n",
      "\n",
      "  BACKGROUND       0.59      0.60      0.59      3449\n",
      " CONCLUSIONS       0.65      0.75      0.70      4582\n",
      "     METHODS       0.86      0.87      0.87      9964\n",
      "   OBJECTIVE       0.55      0.64      0.59      2376\n",
      "     RESULTS       0.90      0.80      0.85      9841\n",
      "\n",
      "    accuracy                           0.78     30212\n",
      "   macro avg       0.71      0.73      0.72     30212\n",
      "weighted avg       0.79      0.78      0.78     30212\n",
      "\n"
     ]
    }
   ],
   "source": [
    "y_pred = model_1.predict(devel_text_cleaned)\n",
    "evaluate(y_devel, y_pred)"
   ]
  },
  {
   "cell_type": "markdown",
   "id": "0b4a4810",
   "metadata": {},
   "source": [
    "### Model2: Linear SVM with Tf-idf Vectorizer\n",
    "\n",
    "The next model is Linear SVM with the same technique for imbalanced data. Additional hyperparameter for SVM is cost parameter which is set to 1."
   ]
  },
  {
   "cell_type": "code",
   "execution_count": null,
   "id": "79afb415",
   "metadata": {
    "colab": {
     "base_uri": "https://localhost:8080/"
    },
    "id": "79afb415",
    "outputId": "35a4f505-285a-467b-c4ff-f57fb037a120"
   },
   "outputs": [
    {
     "data": {
      "text/plain": [
       "Pipeline(steps=[('tf-idf',\n",
       "                 TfidfVectorizer(ngram_range=(1, 2),\n",
       "                                 tokenizer=<function word_tokenize at 0x7f1d65a39b00>)),\n",
       "                ('LinearSVM',\n",
       "                 LinearSVC(C=1,\n",
       "                           class_weight={0: 1.657292769365306,\n",
       "                                         1: 1.3253828032979977,\n",
       "                                         2: 0.6066753154853166,\n",
       "                                         3: 2.6019221041982803,\n",
       "                                         4: 0.6213310786326851},\n",
       "                           random_state=42))])"
      ]
     },
     "execution_count": 15,
     "metadata": {},
     "output_type": "execute_result"
    }
   ],
   "source": [
    "model_2 = Pipeline([\n",
    "    (\"tf-idf\", TfidfVectorizer(tokenizer=word_tokenize, ngram_range=ngram)),\n",
    "    (\"LinearSVM\", LinearSVC(class_weight=cw_dict, random_state=random_seed, C=1))\n",
    "])\n",
    "model_2.fit(train_text_cleaned, y_train)"
   ]
  },
  {
   "cell_type": "code",
   "execution_count": null,
   "id": "8d9c0ac9",
   "metadata": {
    "colab": {
     "base_uri": "https://localhost:8080/"
    },
    "id": "8d9c0ac9",
    "outputId": "096d1a9d-986f-41a9-e047-79a3dbebf1fb"
   },
   "outputs": [
    {
     "name": "stdout",
     "output_type": "stream",
     "text": [
      "              precision    recall  f1-score   support\n",
      "\n",
      "  BACKGROUND       0.61      0.58      0.60      3449\n",
      " CONCLUSIONS       0.70      0.73      0.71      4582\n",
      "     METHODS       0.85      0.91      0.88      9964\n",
      "   OBJECTIVE       0.61      0.57      0.59      2376\n",
      "     RESULTS       0.89      0.85      0.87      9841\n",
      "\n",
      "    accuracy                           0.80     30212\n",
      "   macro avg       0.73      0.73      0.73     30212\n",
      "weighted avg       0.80      0.80      0.80     30212\n",
      "\n"
     ]
    }
   ],
   "source": [
    "y_pred = model_2.predict(devel_text_cleaned)\n",
    "evaluate(y_devel, y_pred)"
   ]
  },
  {
   "cell_type": "markdown",
   "id": "f2601c3b",
   "metadata": {},
   "source": [
    "### Model3: Conv1D network\n",
    "\n",
    "#### Word Embedding layer\n",
    "Prior to build word embedding layer, the texts were vectorized using `TextVectorization`. The vectors are encoded as 296 word sequence length which is the maximum length in the entire sentences in the training set. The max size of vocabulary of this vectorizer is 68,000 which is the total number of vocabulary in the training set. After vectorizing, embedding dimension is set to 150 as my machine can handle.\n",
    "#### Conv1D layer\n",
    "- filter_size = 64\n",
    "- kernel_size = 5\n",
    "- activation = ReLU\n",
    "- Dropout = 0.2\n",
    "\n",
    "#### Training setting\n",
    "- epochs = 3\n",
    "- batch_size = 256\n",
    "- balancing class weights\n",
    "\n",
    "Such setting follows the codes from practical session"
   ]
  },
  {
   "cell_type": "code",
   "execution_count": 11,
   "id": "0bd0cfc6",
   "metadata": {
    "colab": {
     "base_uri": "https://localhost:8080/"
    },
    "id": "0bd0cfc6",
    "outputId": "bd2b6552-e598-4eaa-80e2-8a52d078553e"
   },
   "outputs": [
    {
     "data": {
      "text/plain": [
       "296"
      ]
     },
     "execution_count": 11,
     "metadata": {},
     "output_type": "execute_result"
    }
   ],
   "source": [
    "import tensorflow as tf\n",
    "from tensorflow.keras.layers.experimental.preprocessing import TextVectorization\n",
    "\n",
    "sentence_len = [len(sent.split()) for sent in train_data['txt'].tolist()]\n",
    "max(sentence_len)"
   ]
  },
  {
   "cell_type": "code",
   "execution_count": 12,
   "id": "56df8096",
   "metadata": {
    "id": "56df8096"
   },
   "outputs": [],
   "source": [
    "max_tokens = 68000\n",
    "seq_len = 296\n",
    "\n",
    "text_vec = TextVectorization(max_tokens=max_tokens, \n",
    "                             pad_to_max_tokens=True, \n",
    "                             output_sequence_length=seq_len,\n",
    "                             output_mode='int')\n",
    "text_vec.adapt(train_text_cleaned)"
   ]
  },
  {
   "cell_type": "code",
   "execution_count": 15,
   "id": "9986a6f8",
   "metadata": {
    "id": "9986a6f8"
   },
   "outputs": [],
   "source": [
    "from tensorflow.keras.utils import to_categorical, set_random_seed\n",
    "\n",
    "random_seed = 42\n",
    "embedding_dim = 150\n",
    "hidden_dims=32\n",
    "filter1 = 64\n",
    "kernel_size=5\n",
    "input_dim = len(text_vec.get_vocabulary())\n",
    "set_random_seed(random_seed)\n",
    "# np.set_random_seed(random_seed)\n",
    "\n",
    "y_train_vec = to_categorical(y_train, num_classes=5, dtype=int)\n",
    "y_devel_vec = to_categorical(y_devel, num_classes=5, dtype=int)\n",
    "y_test_vec = to_categorical(y_test, num_classes=5, dtype=int)\n",
    "\n",
    "# x_train = pad_sequences(train_text_cleaned, maxlen=seq_len)\n",
    "# x_test = pad_sequences(devel_text_cleaned, maxlen=seq_len)"
   ]
  },
  {
   "cell_type": "code",
   "execution_count": 24,
   "id": "17accdf0",
   "metadata": {
    "colab": {
     "base_uri": "https://localhost:8080/"
    },
    "id": "17accdf0",
    "outputId": "4c236e64-bf9d-49b2-b581-b96c83ca035b"
   },
   "outputs": [
    {
     "name": "stdout",
     "output_type": "stream",
     "text": [
      "Finished building model.\n",
      "\n",
      "Model: \"sequential_3\"\n",
      "_________________________________________________________________\n",
      " Layer (type)                Output Shape              Param #   \n",
      "=================================================================\n",
      " text_vectorization (TextVec  (None, 296)              0         \n",
      " torization)                                                     \n",
      "                                                                 \n",
      " embedding_3 (Embedding)     (None, 296, 150)          8685300   \n",
      "                                                                 \n",
      " conv1d_3 (Conv1D)           (None, 292, 64)           48064     \n",
      "                                                                 \n",
      " global_max_pooling1d_3 (Glo  (None, 64)               0         \n",
      " balMaxPooling1D)                                                \n",
      "                                                                 \n",
      " dropout_3 (Dropout)         (None, 64)                0         \n",
      "                                                                 \n",
      " dense_3 (Dense)             (None, 5)                 325       \n",
      "                                                                 \n",
      "=================================================================\n",
      "Total params: 8,733,689\n",
      "Trainable params: 8,733,689\n",
      "Non-trainable params: 0\n",
      "_________________________________________________________________\n",
      "None\n"
     ]
    }
   ],
   "source": [
    "from keras.layers import Embedding, Dropout, Dropout, Dense, GlobalMaxPooling1D\n",
    "from keras.layers import Conv1D\n",
    "from sklearn.metrics import f1_score\n",
    "\n",
    "model = tf.keras.Sequential()\n",
    "\n",
    "model.add(tf.keras.Input(shape=(1,), dtype=tf.string))\n",
    "model.add(text_vec)\n",
    "model.add(Embedding(input_dim=input_dim,\n",
    "                    output_dim=embedding_dim,\n",
    "                    mask_zero=True,\n",
    "                   input_length=seq_len))\n",
    "model.add(Conv1D(filter1,\n",
    "                 kernel_size,\n",
    "                 padding='valid',\n",
    "                 activation='relu',\n",
    "                 strides=1))\n",
    "model.add(GlobalMaxPooling1D())\n",
    "model.add(Dropout(0.2))\n",
    "\n",
    "model.add(Dense(5, activation='softmax'))\n",
    "\n",
    "model.compile(loss='categorical_crossentropy',\n",
    "              optimizer='adam',\n",
    "              metrics=['accuracy'])\n",
    "\n",
    "print('Finished building model.\\n')\n",
    "print(model.summary())"
   ]
  },
  {
   "cell_type": "code",
   "execution_count": 25,
   "id": "08ee6dcf",
   "metadata": {
    "colab": {
     "base_uri": "https://localhost:8080/"
    },
    "id": "08ee6dcf",
    "outputId": "05f890b6-ca33-4b7c-b7aa-d0dc3ce47953"
   },
   "outputs": [
    {
     "name": "stdout",
     "output_type": "stream",
     "text": [
      "Epoch 1/3\n",
      "5627/5627 [==============================] - 63s 11ms/step - loss: 0.8069 - accuracy: 0.7401 - val_loss: 0.6015 - val_accuracy: 0.7844\n",
      "Epoch 2/3\n",
      "5627/5627 [==============================] - 66s 12ms/step - loss: 0.5743 - accuracy: 0.8240 - val_loss: 0.6388 - val_accuracy: 0.7687\n",
      "Epoch 3/3\n",
      "5627/5627 [==============================] - 63s 11ms/step - loss: 0.3950 - accuracy: 0.8788 - val_loss: 0.6800 - val_accuracy: 0.7737\n"
     ]
    },
    {
     "data": {
      "text/plain": [
       "<keras.callbacks.History at 0x7f2259301b10>"
      ]
     },
     "execution_count": 25,
     "metadata": {},
     "output_type": "execute_result"
    }
   ],
   "source": [
    "model.fit(train_text_cleaned, y_train_vec, class_weight=cw_dict, batch_size=32, epochs=3, validation_data=(devel_text_cleaned, y_devel_vec))\n",
    "# y_train_vec"
   ]
  },
  {
   "cell_type": "code",
   "execution_count": 26,
   "id": "90fe9b29",
   "metadata": {
    "colab": {
     "base_uri": "https://localhost:8080/"
    },
    "id": "90fe9b29",
    "outputId": "805395b0-b58f-4b39-fe03-6a640db503a5"
   },
   "outputs": [
    {
     "name": "stdout",
     "output_type": "stream",
     "text": [
      "              precision    recall  f1-score   support\n",
      "\n",
      "  BACKGROUND       0.55      0.59      0.57      3449\n",
      " CONCLUSIONS       0.66      0.71      0.69      4582\n",
      "     METHODS       0.87      0.86      0.87      9964\n",
      "   OBJECTIVE       0.56      0.58      0.57      2376\n",
      "     RESULTS       0.88      0.82      0.85      9841\n",
      "\n",
      "    accuracy                           0.77     30212\n",
      "   macro avg       0.70      0.71      0.71     30212\n",
      "weighted avg       0.78      0.77      0.78     30212\n",
      "\n"
     ]
    }
   ],
   "source": [
    "y_pred_vec = model.predict(devel_text_cleaned)\n",
    "y_pred = np.argmax(y_pred_vec, axis=1)\n",
    "evaluate(y_devel, y_pred)"
   ]
  },
  {
   "cell_type": "markdown",
   "id": "c5f608a4",
   "metadata": {
    "id": "7e6123a8"
   },
   "source": [
    "### Model4: Different embedding layer with the Conv1D network"
   ]
  },
  {
   "cell_type": "markdown",
   "id": "013773f6",
   "metadata": {},
   "source": [
    "### Model5: Model from the paper\n",
    "\n",
    "According to the paper [(Neural Networks for Joint Sentence classification in Mecial Paper Abstracts)](https://arxiv.org/pdf/1612.05251.pdf), the suggested model outperforms other baseline models such as Logistic Regression, Forward ANN, and CRF. The last model follows the instructions at the paper.\n",
    "\n",
    "- Additional information for the model is to label which line is the corresponding sentence in the abstract and give the total number of lines in the abstract.\n",
    "This should be effective because abstracts are typically structured writing especially medical paper. Additionally, it is obvious the 'METHOD' part is followed by 'RESULT' part. Such information would be helpful for the model to classify the sentence."
   ]
  },
  {
   "cell_type": "code",
   "execution_count": 198,
   "id": "016707a2",
   "metadata": {},
   "outputs": [
    {
     "name": "stderr",
     "output_type": "stream",
     "text": [
      "/tmp/ipykernel_46577/1246308742.py:7: SettingWithCopyWarning: \n",
      "A value is trying to be set on a copy of a slice from a DataFrame\n",
      "\n",
      "See the caveats in the documentation: https://pandas.pydata.org/pandas-docs/stable/user_guide/indexing.html#returning-a-view-versus-a-copy\n",
      "  train_data['total_lines'][i-count:i] = count\n",
      "/tmp/ipykernel_46577/1246308742.py:14: SettingWithCopyWarning: \n",
      "A value is trying to be set on a copy of a slice from a DataFrame\n",
      "\n",
      "See the caveats in the documentation: https://pandas.pydata.org/pandas-docs/stable/user_guide/indexing.html#returning-a-view-versus-a-copy\n",
      "  train_data['total_lines'][i-count+1:] = count\n"
     ]
    },
    {
     "data": {
      "text/html": [
       "<div>\n",
       "<style scoped>\n",
       "    .dataframe tbody tr th:only-of-type {\n",
       "        vertical-align: middle;\n",
       "    }\n",
       "\n",
       "    .dataframe tbody tr th {\n",
       "        vertical-align: top;\n",
       "    }\n",
       "\n",
       "    .dataframe thead th {\n",
       "        text-align: right;\n",
       "    }\n",
       "</style>\n",
       "<table border=\"1\" class=\"dataframe\">\n",
       "  <thead>\n",
       "    <tr style=\"text-align: right;\">\n",
       "      <th></th>\n",
       "      <th>pmid</th>\n",
       "      <th>label</th>\n",
       "      <th>txt</th>\n",
       "      <th>line_number</th>\n",
       "      <th>total_lines</th>\n",
       "    </tr>\n",
       "  </thead>\n",
       "  <tbody>\n",
       "    <tr>\n",
       "      <th>0</th>\n",
       "      <td>24293578</td>\n",
       "      <td>OBJECTIVE</td>\n",
       "      <td>To investigate the efficacy of 6 weeks of dail...</td>\n",
       "      <td>1</td>\n",
       "      <td>12</td>\n",
       "    </tr>\n",
       "    <tr>\n",
       "      <th>1</th>\n",
       "      <td>24293578</td>\n",
       "      <td>METHODS</td>\n",
       "      <td>A total of 125 patients with primary knee OA w...</td>\n",
       "      <td>2</td>\n",
       "      <td>12</td>\n",
       "    </tr>\n",
       "    <tr>\n",
       "      <th>2</th>\n",
       "      <td>24293578</td>\n",
       "      <td>METHODS</td>\n",
       "      <td>Outcome measures included pain reduction and i...</td>\n",
       "      <td>3</td>\n",
       "      <td>12</td>\n",
       "    </tr>\n",
       "    <tr>\n",
       "      <th>3</th>\n",
       "      <td>24293578</td>\n",
       "      <td>METHODS</td>\n",
       "      <td>Pain was assessed using the visual analog pain...</td>\n",
       "      <td>4</td>\n",
       "      <td>12</td>\n",
       "    </tr>\n",
       "    <tr>\n",
       "      <th>4</th>\n",
       "      <td>24293578</td>\n",
       "      <td>METHODS</td>\n",
       "      <td>Secondary outcome measures included the Wester...</td>\n",
       "      <td>5</td>\n",
       "      <td>12</td>\n",
       "    </tr>\n",
       "    <tr>\n",
       "      <th>...</th>\n",
       "      <td>...</td>\n",
       "      <td>...</td>\n",
       "      <td>...</td>\n",
       "      <td>...</td>\n",
       "      <td>...</td>\n",
       "    </tr>\n",
       "    <tr>\n",
       "      <th>180035</th>\n",
       "      <td>26227186</td>\n",
       "      <td>RESULTS</td>\n",
       "      <td>For the absolute change in percent atheroma vo...</td>\n",
       "      <td>8</td>\n",
       "      <td>12</td>\n",
       "    </tr>\n",
       "    <tr>\n",
       "      <th>180036</th>\n",
       "      <td>26227186</td>\n",
       "      <td>RESULTS</td>\n",
       "      <td>For PAV , a significantly greater percentage o...</td>\n",
       "      <td>9</td>\n",
       "      <td>12</td>\n",
       "    </tr>\n",
       "    <tr>\n",
       "      <th>180037</th>\n",
       "      <td>26227186</td>\n",
       "      <td>RESULTS</td>\n",
       "      <td>Both strategies had acceptable side effect pro...</td>\n",
       "      <td>10</td>\n",
       "      <td>12</td>\n",
       "    </tr>\n",
       "    <tr>\n",
       "      <th>180038</th>\n",
       "      <td>26227186</td>\n",
       "      <td>CONCLUSIONS</td>\n",
       "      <td>Compared with standard statin monotherapy , th...</td>\n",
       "      <td>11</td>\n",
       "      <td>12</td>\n",
       "    </tr>\n",
       "    <tr>\n",
       "      <th>180039</th>\n",
       "      <td>26227186</td>\n",
       "      <td>CONCLUSIONS</td>\n",
       "      <td>( Plaque Regression With Cholesterol Absorptio...</td>\n",
       "      <td>12</td>\n",
       "      <td>12</td>\n",
       "    </tr>\n",
       "  </tbody>\n",
       "</table>\n",
       "<p>180040 rows × 5 columns</p>\n",
       "</div>"
      ],
      "text/plain": [
       "            pmid        label  \\\n",
       "0       24293578    OBJECTIVE   \n",
       "1       24293578      METHODS   \n",
       "2       24293578      METHODS   \n",
       "3       24293578      METHODS   \n",
       "4       24293578      METHODS   \n",
       "...          ...          ...   \n",
       "180035  26227186      RESULTS   \n",
       "180036  26227186      RESULTS   \n",
       "180037  26227186      RESULTS   \n",
       "180038  26227186  CONCLUSIONS   \n",
       "180039  26227186  CONCLUSIONS   \n",
       "\n",
       "                                                      txt  line_number  \\\n",
       "0       To investigate the efficacy of 6 weeks of dail...            1   \n",
       "1       A total of 125 patients with primary knee OA w...            2   \n",
       "2       Outcome measures included pain reduction and i...            3   \n",
       "3       Pain was assessed using the visual analog pain...            4   \n",
       "4       Secondary outcome measures included the Wester...            5   \n",
       "...                                                   ...          ...   \n",
       "180035  For the absolute change in percent atheroma vo...            8   \n",
       "180036  For PAV , a significantly greater percentage o...            9   \n",
       "180037  Both strategies had acceptable side effect pro...           10   \n",
       "180038  Compared with standard statin monotherapy , th...           11   \n",
       "180039  ( Plaque Regression With Cholesterol Absorptio...           12   \n",
       "\n",
       "        total_lines  \n",
       "0                12  \n",
       "1                12  \n",
       "2                12  \n",
       "3                12  \n",
       "4                12  \n",
       "...             ...  \n",
       "180035           12  \n",
       "180036           12  \n",
       "180037           12  \n",
       "180038           12  \n",
       "180039           12  \n",
       "\n",
       "[180040 rows x 5 columns]"
      ]
     },
     "execution_count": 198,
     "metadata": {},
     "output_type": "execute_result"
    }
   ],
   "source": [
    "lines = []\n",
    "current = 0\n",
    "count = 0\n",
    "train_data['total_lines'] = 0\n",
    "for i, id in enumerate(train_data['pmid']):\n",
    "    if current != id:\n",
    "        train_data['total_lines'][i-count:i] = count\n",
    "        current = id\n",
    "        count = 1\n",
    "    else:\n",
    "        count += 1\n",
    "    lines.append(count)\n",
    "\n",
    "train_data['total_lines'][i-count+1:] = count\n",
    "train_data['line_number'] = lines\n",
    "train_data"
   ]
  },
  {
   "cell_type": "code",
   "execution_count": null,
   "id": "1fff1d80",
   "metadata": {},
   "outputs": [],
   "source": []
  },
  {
   "cell_type": "code",
   "execution_count": null,
   "id": "48f2a0ee",
   "metadata": {},
   "outputs": [],
   "source": []
  }
 ],
 "metadata": {
  "colab": {
   "collapsed_sections": [],
   "name": "pubmed_nlp.ipynb",
   "provenance": []
  },
  "gpuClass": "standard",
  "kernelspec": {
   "display_name": "nlp_proj",
   "language": "python",
   "name": "nlp_proj"
  },
  "language_info": {
   "codemirror_mode": {
    "name": "ipython",
    "version": 3
   },
   "file_extension": ".py",
   "mimetype": "text/x-python",
   "name": "python",
   "nbconvert_exporter": "python",
   "pygments_lexer": "ipython3",
   "version": "3.8.10"
  }
 },
 "nbformat": 4,
 "nbformat_minor": 5
}
